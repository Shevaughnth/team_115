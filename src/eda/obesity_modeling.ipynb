{
 "cells": [
  {
   "cell_type": "markdown",
   "id": "597efedb",
   "metadata": {},
   "source": [
    "# Linear regression modeling"
   ]
  },
  {
   "cell_type": "code",
   "execution_count": 2,
   "id": "5ad25996",
   "metadata": {},
   "outputs": [],
   "source": [
    "#loading in packages\n"
   ]
  },
  {
   "cell_type": "code",
   "execution_count": 3,
   "id": "de7c00f2",
   "metadata": {},
   "outputs": [],
   "source": [
    "obesity_df = pd\"../../processed_data/obesity_eda.csv\""
   ]
  },
  {
   "cell_type": "code",
   "execution_count": 4,
   "id": "c69ca077",
   "metadata": {},
   "outputs": [
    {
     "data": {
      "text/plain": [
       "'../../processed_data/obesity_eda.csv'"
      ]
     },
     "execution_count": 4,
     "metadata": {},
     "output_type": "execute_result"
    }
   ],
   "source": [
    "obesity_df"
   ]
  },
  {
   "cell_type": "code",
   "execution_count": null,
   "id": "54949f7c",
   "metadata": {},
   "outputs": [],
   "source": [
    "## Checking data"
   ]
  }
 ],
 "metadata": {
  "kernelspec": {
   "display_name": "Python 3",
   "language": "python",
   "name": "python3"
  },
  "language_info": {
   "codemirror_mode": {
    "name": "ipython",
    "version": 3
   },
   "file_extension": ".py",
   "mimetype": "text/x-python",
   "name": "python",
   "nbconvert_exporter": "python",
   "pygments_lexer": "ipython3",
   "version": "3.8.8"
  }
 },
 "nbformat": 4,
 "nbformat_minor": 5
}
