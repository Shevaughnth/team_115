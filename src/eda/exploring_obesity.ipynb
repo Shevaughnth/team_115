{
 "cells": [
  {
   "cell_type": "markdown",
   "id": "31dfbb82",
   "metadata": {},
   "source": [
    "# An exploration of factors that may impact obesity in America"
   ]
  },
  {
   "cell_type": "code",
   "execution_count": 1,
   "id": "c79f0d57",
   "metadata": {},
   "outputs": [],
   "source": [
    "import numpy as np\n",
    "import pandas as pd\n",
    "import matplotlib.pyplot as plt\n",
    "import seaborn as sns"
   ]
  },
  {
   "cell_type": "code",
   "execution_count": 2,
   "id": "0dbda870",
   "metadata": {},
   "outputs": [],
   "source": [
    "pd.options.display.max_columns = 100"
   ]
  },
  {
   "cell_type": "code",
   "execution_count": 3,
   "id": "e4e44209",
   "metadata": {},
   "outputs": [],
   "source": [
    "# reading in and tidying data\n",
    "obesity_df = pd.read_csv(\"../../processed_data/updated_obesity_data.csv\")\n",
    "obesity_df = obesity_df.drop(columns = [\"grocery\", \"supercenters\", \"convenience_stores\", \"speciality_stores\", \"food_stamp_stores\", \"number_fast_foods\", \"full_service_count\", \"farmers_markets\", \"food_banks_18_x\", \"food_stamp_fm\", \"total_fi_people\", \"num_fi_children\"])"
   ]
  },
  {
   "cell_type": "code",
   "execution_count": 4,
   "id": "75609a73",
   "metadata": {},
   "outputs": [],
   "source": [
    "#reading in and cleaning obesity data \n",
    "obesity_df = pd.read_csv(\"../../processed_data/Obesity_clean.csv\")\n",
    "obesity_df = obesity_df.drop(columns = \"State\")\n",
    "obesity_df.columns = [\"county\", \"fips\", \"obesity_rate\"]\n",
    "\n",
    "# reading in farmers market data\n",
    "fm_df = pd.read_csv(\"../../processed_data/farmers_markets.csv\")\n",
    "\n",
    "# reading in food insecurity data\n",
    "fi_df = pd.read_csv(\"../../processed_data/fi_data.csv\")\n",
    "\n",
    "# reading in and cleaning up food assitance data frame\n",
    "assistance_df = pd.read_csv(\"../../processed_data/Assistance dataset_update2_clean.csv\")\n",
    "assistance_df = assistance_df.drop(columns = [\"snap_auth_stores_chg_12_17\", \"snap_bens_per_cap_chg_12_17\", \"school_lunch_prog_chg_12_17\", \"school_bfast_prog_chg_12_17\", \"smr_food_prog_12_17\", \"wic_parts_pop_12_17\"])\n",
    "\n",
    "# reading in population dataset (note, this is an estimate of the 2017 population for each county)\n",
    "pop_df = pd.read_csv(\"../../processed_data/new_population3 (1).csv\")\n",
    "pop_df.columns = [\"fips\", \"population\"]\n",
    "\n",
    "# reading in and cleaning up restaurant dataset\n",
    "restaurant_df = pd.read_csv(\"../../processed_data/restaurants_clean.csv\")\n",
    "restaurant_df = restaurant_df.drop(columns = [\"fast_food_exp_percap_12\", \"full_service_exp_percap_12\", \"Unnamed: 0\"])\n",
    "\n",
    "# reading in and cleaning store access data\n",
    "store_access = pd.read_csv(\"../../processed_data/store_access_clean.csv\")\n",
    "store_access = store_access.drop(columns = \"Unnamed: 0\")\n",
    "\n",
    "# reading in and cleaning store access data\n",
    "store_types = pd.read_csv(\"../../processed_data/store_clean.csv\")\n",
    "store_types = store_types.drop(columns = \"Unnamed: 0\")\n",
    "\n",
    "# reading demographic data set\n",
    "demography = pd.read_csv(\"../../processed_data/demographic_data_2017.csv\")\n",
    "\n",
    "# reading in income data\n",
    "median_income = pd.read_csv(\"../../processed_data/median_income_2017.csv\")"
   ]
  },
  {
   "cell_type": "code",
   "execution_count": 5,
   "id": "f6e63578",
   "metadata": {},
   "outputs": [],
   "source": [
    "# merging all of our datsets on the fips code (which is the id of a county)\n",
    "merged_df = pd.merge(store_access, store_types, how = 'left', on = 'fips')\n",
    "merged_df = pd.merge(merged_df, obesity_df, how = 'left', on = 'fips')\n",
    "merged_df = pd.merge(merged_df, fm_df, how = 'left', on = 'fips')\n",
    "merged_df = pd.merge(merged_df, fi_df, how = 'left', on = 'fips')\n",
    "merged_df = pd.merge(merged_df, assistance_df, how = 'left', on = 'fips')\n",
    "merged_df = pd.merge(merged_df, pop_df, how = 'left', on = 'fips')\n",
    "merged_df = pd.merge(merged_df, restaurant_df, how = 'left', on = 'fips')\n",
    "merged_df = pd.merge(merged_df, demography, how = 'left', on = 'fips')\n",
    "merged_df = pd.merge(merged_df, median_income, how = 'left', on = 'fips')\n",
    "\n",
    "# dropped columns that had only number of (variable). Kept the concentration\n",
    "merged_df = merged_df.drop(columns = [\"state_y\", \"region_y\", \"county_y\", \"pop_low_access_15\",\"low_income_low_access_15\", \"no_car_low_access_15\", \"snap_low_access_15\", \"child_low_access_15\", \"senior_low_access_15\", \"white_low_access_15\", \"black_low_access_15\", \"hispanic_low_access_15\", \"asian_low_access_15\", \"nhna_low_access_15\", \"multiracial_low_access_15\", \"grocery_16\", \"super_16\", \"convenience_16\", \"specialty_16\", \"snap_available_17\", \"wic_available_16\", \"farmers_markets\", \"fm_accepts_snap\", \"fm_accept_wic\", \"fm_accept_credit\", \"total_fi_people\", \"num_fi_children\", \"snap_auth_stores_17\", \"food_banks_18\", \"population\", \"fast_food_16\", \"full_service_16\"])\n",
    "\n",
    "# renamed columns\n",
    "merged_df.columns = ['fips', 'state', 'county', 'percent_pop_low_access_15',\n",
    "       'percent_low_income_low_access_15', 'percent_no_car_low_access_15',\n",
    "       'percent_snap_low_access_15', 'percent_child_low_access_15',\n",
    "       'percent_senior_low_access_15', 'percent_white_low_access_15',\n",
    "       'percent_black_low_access_15', 'percent_hispanic_low_access_15',\n",
    "       'percent_asian_low_access_15', 'percent_nhna_low_access_15',\n",
    "       'nhpi_low_access_15', 'percent_nhpi_low_access_15',\n",
    "       'percent_multiracial_low_access_15', 'grocery_per1000',\n",
    "       'super_per1000', 'convenience_per1000', 'specialty_per1000',\n",
    "       'snap_available_per1000', 'wic_available_per1000', 'county_x',\n",
    "       'obesity_rate', 'state_x', 'farmers_markets_per1000',\n",
    "       'pct_fm_accepting_snap', 'pct_fm_accept_wic', 'pct_fm_credit',\n",
    "       'fm_sell_frveg', 'pct_fm_sell_frveg', 'region', 'fi_rate',\n",
    "       'child_fi_rate', 'cost_per_meal', 'est_annual_food_budget_shortfall',\n",
    "       'state_x', 'county_x', 'snap_bens_per1000', 'school_lunch_prog_17',\n",
    "       'school_bfast_prog_17', 'smr_food_prog_17', 'wic_parts_pop_17',\n",
    "       'fast_food_per1000', 'full_service_per1000', 'pop_estimate',\n",
    "       'percent_white', 'percent_black', 'percent_native_american',\n",
    "       'percent_asian', 'percent_nhpi', 'percent_multi',\n",
    "       'percent_nonwhite_hispanic', 'median_household_income']\n",
    "\n",
    "# dropped more renames\n",
    "merged_df = merged_df.drop(columns = [\"state_x\", \"county_x\"])"
   ]
  },
  {
   "cell_type": "code",
   "execution_count": 12,
   "id": "f2d0cc4c",
   "metadata": {},
   "outputs": [],
   "source": [
    "merged_df.to_csv(\"../../processed_data/merged_obesity.csv\")"
   ]
  },
  {
   "cell_type": "code",
   "execution_count": null,
   "id": "fe4eb31e",
   "metadata": {},
   "outputs": [],
   "source": []
  },
  {
   "cell_type": "markdown",
   "id": "6bf6f7f2",
   "metadata": {},
   "source": [
    "### Looking at Obesity"
   ]
  },
  {
   "cell_type": "code",
   "execution_count": 7,
   "id": "cee1c9fe",
   "metadata": {
    "scrolled": false
   },
   "outputs": [
    {
     "data": {
      "text/plain": [
       "count    3109.000000\n",
       "mean       30.965294\n",
       "std         4.463893\n",
       "min        10.700000\n",
       "25%        28.500000\n",
       "50%        31.200000\n",
       "75%        33.700000\n",
       "max        46.600000\n",
       "Name: obesity_rate, dtype: float64"
      ]
     },
     "execution_count": 7,
     "metadata": {},
     "output_type": "execute_result"
    }
   ],
   "source": [
    "merged_df[\"obesity_rate\"].describe()"
   ]
  },
  {
   "cell_type": "code",
   "execution_count": 8,
   "id": "99653b3f",
   "metadata": {},
   "outputs": [
    {
     "data": {
      "text/html": [
       "<div>\n",
       "<style scoped>\n",
       "    .dataframe tbody tr th:only-of-type {\n",
       "        vertical-align: middle;\n",
       "    }\n",
       "\n",
       "    .dataframe tbody tr th {\n",
       "        vertical-align: top;\n",
       "    }\n",
       "\n",
       "    .dataframe thead th {\n",
       "        text-align: right;\n",
       "    }\n",
       "</style>\n",
       "<table border=\"1\" class=\"dataframe\">\n",
       "  <thead>\n",
       "    <tr style=\"text-align: right;\">\n",
       "      <th>level_1</th>\n",
       "      <th>25%</th>\n",
       "      <th>50%</th>\n",
       "      <th>75%</th>\n",
       "      <th>count</th>\n",
       "      <th>max</th>\n",
       "      <th>mean</th>\n",
       "      <th>min</th>\n",
       "      <th>std</th>\n",
       "    </tr>\n",
       "    <tr>\n",
       "      <th>region</th>\n",
       "      <th></th>\n",
       "      <th></th>\n",
       "      <th></th>\n",
       "      <th></th>\n",
       "      <th></th>\n",
       "      <th></th>\n",
       "      <th></th>\n",
       "      <th></th>\n",
       "    </tr>\n",
       "  </thead>\n",
       "  <tbody>\n",
       "    <tr>\n",
       "      <th>M</th>\n",
       "      <td>29.70</td>\n",
       "      <td>31.5</td>\n",
       "      <td>33.10</td>\n",
       "      <td>879.0</td>\n",
       "      <td>44.5</td>\n",
       "      <td>31.465529</td>\n",
       "      <td>21.0</td>\n",
       "      <td>2.873670</td>\n",
       "    </tr>\n",
       "    <tr>\n",
       "      <th>N</th>\n",
       "      <td>25.50</td>\n",
       "      <td>28.4</td>\n",
       "      <td>30.70</td>\n",
       "      <td>245.0</td>\n",
       "      <td>39.5</td>\n",
       "      <td>28.102041</td>\n",
       "      <td>14.7</td>\n",
       "      <td>4.013997</td>\n",
       "    </tr>\n",
       "    <tr>\n",
       "      <th>O</th>\n",
       "      <td>NaN</td>\n",
       "      <td>NaN</td>\n",
       "      <td>NaN</td>\n",
       "      <td>0.0</td>\n",
       "      <td>NaN</td>\n",
       "      <td>NaN</td>\n",
       "      <td>NaN</td>\n",
       "      <td>NaN</td>\n",
       "    </tr>\n",
       "    <tr>\n",
       "      <th>S</th>\n",
       "      <td>29.95</td>\n",
       "      <td>32.4</td>\n",
       "      <td>35.25</td>\n",
       "      <td>1395.0</td>\n",
       "      <td>46.6</td>\n",
       "      <td>32.595842</td>\n",
       "      <td>17.0</td>\n",
       "      <td>4.097203</td>\n",
       "    </tr>\n",
       "    <tr>\n",
       "      <th>W</th>\n",
       "      <td>24.40</td>\n",
       "      <td>27.8</td>\n",
       "      <td>31.40</td>\n",
       "      <td>590.0</td>\n",
       "      <td>40.8</td>\n",
       "      <td>27.553729</td>\n",
       "      <td>10.7</td>\n",
       "      <td>4.969132</td>\n",
       "    </tr>\n",
       "  </tbody>\n",
       "</table>\n",
       "</div>"
      ],
      "text/plain": [
       "level_1    25%   50%    75%   count   max       mean   min       std\n",
       "region                                                              \n",
       "M        29.70  31.5  33.10   879.0  44.5  31.465529  21.0  2.873670\n",
       "N        25.50  28.4  30.70   245.0  39.5  28.102041  14.7  4.013997\n",
       "O          NaN   NaN    NaN     0.0   NaN        NaN   NaN       NaN\n",
       "S        29.95  32.4  35.25  1395.0  46.6  32.595842  17.0  4.097203\n",
       "W        24.40  27.8  31.40   590.0  40.8  27.553729  10.7  4.969132"
      ]
     },
     "execution_count": 8,
     "metadata": {},
     "output_type": "execute_result"
    }
   ],
   "source": [
    "subset = merged_df[['region', 'obesity_rate']]\n",
    "subset.groupby('region').describe().unstack(1).reset_index().pivot(index='region', values=0, columns='level_1')"
   ]
  },
  {
   "cell_type": "code",
   "execution_count": 10,
   "id": "c6297494",
   "metadata": {},
   "outputs": [
    {
     "data": {
      "text/plain": [
       "<AxesSubplot:title={'center':'Obesiy Rates'}, ylabel='Frequency'>"
      ]
     },
     "execution_count": 10,
     "metadata": {},
     "output_type": "execute_result"
    },
    {
     "data": {
      "image/png": "[encoded data removed]",
      "text/plain": [
       "<Figure size 432x288 with 1 Axes>"
      ]
     },
     "metadata": {
      "needs_background": "light"
     },
     "output_type": "display_data"
    }
   ],
   "source": [
    "merged_df[\"obesity_rate\"].plot.hist(title = \"Obesiy Rates\")"
   ]
  },
  {
   "cell_type": "code",
   "execution_count": 11,
   "id": "feb02f21",
   "metadata": {},
   "outputs": [
    {
     "data": {
      "text/plain": [
       "Text(0.5, 1.0, 'region vs. obesity_rate')"
      ]
     },
     "execution_count": 11,
     "metadata": {},
     "output_type": "execute_result"
    },
    {
     "data": {
      "image/png": "[encoded data removed]",
      "text/plain": [
       "<Figure size 432x288 with 1 Axes>"
      ]
     },
     "metadata": {
      "needs_background": "light"
     },
     "output_type": "display_data"
    }
   ],
   "source": [
    "sns.boxplot(x = \"region\", y='obesity_rate', data = merged_df)\n",
    "plt.title(\"region vs. obesity_rate\")"
   ]
  }
 ],
 "metadata": {
  "kernelspec": {
   "display_name": "Python 3",
   "language": "python",
   "name": "python3"
  },
  "language_info": {
   "codemirror_mode": {
    "name": "ipython",
    "version": 3
   },
   "file_extension": ".py",
   "mimetype": "text/x-python",
   "name": "python",
   "nbconvert_exporter": "python",
   "pygments_lexer": "ipython3",
   "version": "3.8.8"
  }
 },
 "nbformat": 4,
 "nbformat_minor": 5
}
