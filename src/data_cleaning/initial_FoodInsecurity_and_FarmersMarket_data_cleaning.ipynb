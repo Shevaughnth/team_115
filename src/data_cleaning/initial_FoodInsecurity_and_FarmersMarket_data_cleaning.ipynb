{
 "cells": [
  {
   "cell_type": "markdown",
   "id": "bb6ffd4f",
   "metadata": {},
   "source": [
    "# **Initial Data Cleaning for Farmers Markets and Food Insecurity**"
   ]
  },
  {
   "cell_type": "code",
   "execution_count": 1,
   "id": "896c40c5",
   "metadata": {
    "scrolled": true
   },
   "outputs": [],
   "source": [
    "import numpy as np\n",
    "import pandas as pd\n",
    "import matplotlib.pyplot as plt\n",
    "import seaborn as sns"
   ]
  },
  {
   "cell_type": "code",
   "execution_count": 2,
   "id": "e04f4fb4",
   "metadata": {},
   "outputs": [],
   "source": [
    "import pandas_profiling "
   ]
  },
  {
   "cell_type": "code",
   "execution_count": 3,
   "id": "0931a717",
   "metadata": {},
   "outputs": [],
   "source": [
    "%matplotlib inline"
   ]
  },
  {
   "cell_type": "markdown",
   "id": "e0fd2952",
   "metadata": {},
   "source": [
    "## Food Insecurity Exploration"
   ]
  },
  {
   "cell_type": "code",
   "execution_count": 4,
   "id": "589858bc",
   "metadata": {},
   "outputs": [],
   "source": [
    "states = {\n",
    "        'AK': 'O',\n",
    "        'AL': 'S',\n",
    "        'AR': 'S',\n",
    "        'AS': 'O',\n",
    "        'AZ': 'W',\n",
    "        'CA': 'W',\n",
    "        'CO': 'W',\n",
    "        'CT': 'N',\n",
    "        'DC': 'N',\n",
    "        'DE': 'N',\n",
    "        'FL': 'S',\n",
    "        'GA': 'S',\n",
    "        'GU': 'O',\n",
    "        'HI': 'O',\n",
    "        'IA': 'M',\n",
    "        'ID': 'W',\n",
    "        'IL': 'M',\n",
    "        'IN': 'M',\n",
    "        'KS': 'M',\n",
    "        'KY': 'S',\n",
    "        'LA': 'S',\n",
    "        'MA': 'N',\n",
    "        'MD': 'N',\n",
    "        'ME': 'N',\n",
    "        'MI': 'W',\n",
    "        'MN': 'M',\n",
    "        'MO': 'M',\n",
    "        'MP': 'O',\n",
    "        'MS': 'S',\n",
    "        'MT': 'W',\n",
    "        'NA': 'O',\n",
    "        'NC': 'S',\n",
    "        'ND': 'M',\n",
    "        'NE': 'W',\n",
    "        'NH': 'N',\n",
    "        'NJ': 'N',\n",
    "        'NM': 'W',\n",
    "        'NV': 'W',\n",
    "        'NY': 'N',\n",
    "        'OH': 'M',\n",
    "        'OK': 'S',\n",
    "        'OR': 'W',\n",
    "        'PA': 'N',\n",
    "        'PR': 'O',\n",
    "        'RI': 'N',\n",
    "        'SC': 'S',\n",
    "        'SD': 'M',\n",
    "        'TN': 'S',\n",
    "        'TX': 'S',\n",
    "        'UT': 'W',\n",
    "        'VA': 'S',\n",
    "        'VI': 'O',\n",
    "        'VT': 'N',\n",
    "        'WA': 'W',\n",
    "        'WI': 'M',\n",
    "        'WV': 'S',\n",
    "        'WY': 'W'\n",
    "}"
   ]
  },
  {
   "cell_type": "markdown",
   "id": "76090215",
   "metadata": {},
   "source": [
    "I am exploring food insecurity by county using the Map the Meal Gap data"
   ]
  },
  {
   "cell_type": "code",
   "execution_count": 5,
   "id": "d8d9cb7c",
   "metadata": {},
   "outputs": [],
   "source": [
    "# reading in the food insecurity file\n",
    "food_insecurity = pd.read_csv('../../data/MMG_2017_Data.csv')"
   ]
  },
  {
   "cell_type": "code",
   "execution_count": 6,
   "id": "64170114",
   "metadata": {},
   "outputs": [
    {
     "name": "stdout",
     "output_type": "stream",
     "text": [
      "<class 'pandas.core.frame.DataFrame'>\n",
      "RangeIndex: 3142 entries, 0 to 3141\n",
      "Data columns (total 10 columns):\n",
      " #   Column                            Non-Null Count  Dtype  \n",
      "---  ------                            --------------  -----  \n",
      " 0   FIPS                              3142 non-null   int64  \n",
      " 1   state                             3142 non-null   object \n",
      " 2   county_state                      3142 non-null   object \n",
      " 3    fi_rate                          3142 non-null   object \n",
      " 4   total_fi_people                   3142 non-null   object \n",
      " 5   child_fi_rate                     3142 non-null   object \n",
      " 6   num_fi_children                   3142 non-null   object \n",
      " 7   cost_per_meal                     3142 non-null   object \n",
      " 8   est_annual_food_budget_shortfall  3142 non-null   object \n",
      " 9   Unnamed: 9                        0 non-null      float64\n",
      "dtypes: float64(1), int64(1), object(8)\n",
      "memory usage: 245.6+ KB\n"
     ]
    }
   ],
   "source": [
    "food_insecurity.info()"
   ]
  },
  {
   "cell_type": "code",
   "execution_count": 7,
   "id": "5b990759",
   "metadata": {},
   "outputs": [],
   "source": [
    "food_insecurity.to_csv(\"../../data/fi_data\")"
   ]
  },
  {
   "cell_type": "markdown",
   "id": "c7b468fa",
   "metadata": {},
   "source": [
    "#### Work on Copy"
   ]
  },
  {
   "cell_type": "code",
   "execution_count": 8,
   "id": "70f78f48",
   "metadata": {},
   "outputs": [],
   "source": [
    "# making ahttp://localhost:8888/notebooks/Documents/Initial%20Data%20Cleaning/initial_data_cleaning_SH.ipynb# copy I can play around with before making changes to the actual data\n",
    "food_insecurity_copy = food_insecurity.copy()"
   ]
  },
  {
   "cell_type": "code",
   "execution_count": 9,
   "id": "485820a1",
   "metadata": {},
   "outputs": [],
   "source": [
    "# testing this out on the copy\n",
    "del food_insecurity_copy[\"Unnamed: 9\"]\n",
    "del food_insecurity_copy[\"county_state\"]"
   ]
  },
  {
   "cell_type": "code",
   "execution_count": 10,
   "id": "78241d87",
   "metadata": {},
   "outputs": [],
   "source": [
    "# doing the same to the copy\n",
    "food_insecurity_copy.columns = [\"fips\",\"state\",\"fi_rate\",\"total_fi_people\", \"child_fi_rate\", \"num_fi_children\", \"cost_per_meal\", \"est_annual_food_budget_shortfall\"]"
   ]
  },
  {
   "cell_type": "code",
   "execution_count": 11,
   "id": "5237c859",
   "metadata": {},
   "outputs": [],
   "source": [
    "# adding region column\n",
    "food_insecurity_copy[\"region\"] = food_insecurity_copy[\"state\"].map(states)"
   ]
  },
  {
   "cell_type": "code",
   "execution_count": 12,
   "id": "ce4f04c5",
   "metadata": {
    "scrolled": true
   },
   "outputs": [
    {
     "data": {
      "text/plain": [
       "fips                                 int64\n",
       "state                               object\n",
       "fi_rate                             object\n",
       "total_fi_people                     object\n",
       "child_fi_rate                       object\n",
       "num_fi_children                     object\n",
       "cost_per_meal                       object\n",
       "est_annual_food_budget_shortfall    object\n",
       "region                              object\n",
       "dtype: object"
      ]
     },
     "execution_count": 12,
     "metadata": {},
     "output_type": "execute_result"
    }
   ],
   "source": [
    "food_insecurity_copy.dtypes"
   ]
  },
  {
   "cell_type": "code",
   "execution_count": 13,
   "id": "a5742085",
   "metadata": {},
   "outputs": [],
   "source": [
    "#removing the percent symbol from fi_rate\n",
    "fi_rate_clean = food_insecurity_copy[\"fi_rate\"].str.replace(r\"%\", \"\", regex=True)\n",
    "food_insecurity_copy = food_insecurity_copy.assign(fi_rate = fi_rate_clean)\n",
    "\n",
    "#removing the the percent symbol from child_fi_rate\n",
    "child_fi_rate_clean = food_insecurity_copy[\"child_fi_rate\"].str.replace(r\"%\", \"\", regex=True)\n",
    "food_insecurity_copy = food_insecurity_copy.assign(child_fi_rate = child_fi_rate_clean)\n",
    "\n",
    "#removing dollar signs\n",
    "no_dollar_cpm = food_insecurity_copy[\"cost_per_meal\"].str.replace(r\"$\", \"\", regex=True)\n",
    "food_insecurity_copy = food_insecurity_copy.assign(cost_per_meal = no_dollar_cpm)\n",
    "\n",
    "no_dollar_sf = food_insecurity_copy[\"est_annual_food_budget_shortfall\"].str.replace(r\"$\", \"\", regex=True)\n",
    "food_insecurity_copy = food_insecurity_copy.assign(est_annual_food_budget_shortfall = no_dollar_sf)\n",
    "\n",
    "#removing commas\n",
    "no_commas_fi = food_insecurity_copy[\"total_fi_people\"].str.replace(r\",\", \"\", regex=True)\n",
    "food_insecurity_copy = food_insecurity_copy.assign(total_fi_people = no_commas_fi)\n",
    "\n",
    "no_commas_num = food_insecurity_copy[\"num_fi_children\"].str.replace(r\",\", \"\", regex=True)\n",
    "food_insecurity_copy = food_insecurity_copy.assign(num_fi_children = no_commas_num)\n",
    "\n",
    "no_commas_sf = food_insecurity_copy[\"est_annual_food_budget_shortfall\"].str.replace(r\",\", \"\", regex=True)\n",
    "food_insecurity_copy = food_insecurity_copy.assign(est_annual_food_budget_shortfall = no_commas_sf)"
   ]
  },
  {
   "cell_type": "code",
   "execution_count": 14,
   "id": "cb641d53",
   "metadata": {
    "scrolled": false
   },
   "outputs": [
    {
     "data": {
      "text/plain": [
       "fips                                 int64\n",
       "state                               object\n",
       "fi_rate                             object\n",
       "total_fi_people                     object\n",
       "child_fi_rate                       object\n",
       "num_fi_children                     object\n",
       "cost_per_meal                       object\n",
       "est_annual_food_budget_shortfall    object\n",
       "region                              object\n",
       "dtype: object"
      ]
     },
     "execution_count": 14,
     "metadata": {},
     "output_type": "execute_result"
    }
   ],
   "source": [
    "food_insecurity_copy.dtypes"
   ]
  },
  {
   "cell_type": "code",
   "execution_count": 15,
   "id": "b8755a9e",
   "metadata": {},
   "outputs": [],
   "source": [
    "# changing fips to category\n",
    "food_insecurity_copy['fips'] = food_insecurity_copy['fips'].astype('category')\n",
    "food_insecurity_copy['region'] = food_insecurity_copy['region'].astype('category')\n",
    "\n",
    "# changing strings to numeric values \n",
    "food_insecurity_copy['fi_rate'] = pd.to_numeric(food_insecurity_copy['fi_rate'])\n",
    "food_insecurity_copy['total_fi_people'] = pd.to_numeric(food_insecurity_copy['total_fi_people'])\n",
    "food_insecurity_copy['child_fi_rate'] = pd.to_numeric(food_insecurity_copy['child_fi_rate'])\n",
    "#food_insecurity_copy['num_fi_children'] = pd.to_numeric(food_insecurity_copy['num_fi_children'])\n",
    "food_insecurity_copy['cost_per_meal'] = pd.to_numeric(food_insecurity_copy['cost_per_meal'])\n",
    "food_insecurity_copy['est_annual_food_budget_shortfall'] = pd.to_numeric(food_insecurity_copy['est_annual_food_budget_shortfall'])"
   ]
  },
  {
   "cell_type": "markdown",
   "id": "44c66ed9",
   "metadata": {},
   "source": [
    "#### Real df"
   ]
  },
  {
   "cell_type": "code",
   "execution_count": 16,
   "id": "fe278b0a",
   "metadata": {},
   "outputs": [
    {
     "data": {
      "text/html": [
       "<div>\n",
       "<style scoped>\n",
       "    .dataframe tbody tr th:only-of-type {\n",
       "        vertical-align: middle;\n",
       "    }\n",
       "\n",
       "    .dataframe tbody tr th {\n",
       "        vertical-align: top;\n",
       "    }\n",
       "\n",
       "    .dataframe thead th {\n",
       "        text-align: right;\n",
       "    }\n",
       "</style>\n",
       "<table border=\"1\" class=\"dataframe\">\n",
       "  <thead>\n",
       "    <tr style=\"text-align: right;\">\n",
       "      <th></th>\n",
       "      <th>FIPS</th>\n",
       "      <th>state</th>\n",
       "      <th>county_state</th>\n",
       "      <th>fi_rate</th>\n",
       "      <th>total_fi_people</th>\n",
       "      <th>child_fi_rate</th>\n",
       "      <th>num_fi_children</th>\n",
       "      <th>cost_per_meal</th>\n",
       "      <th>est_annual_food_budget_shortfall</th>\n",
       "      <th>Unnamed: 9</th>\n",
       "    </tr>\n",
       "  </thead>\n",
       "  <tbody>\n",
       "    <tr>\n",
       "      <th>0</th>\n",
       "      <td>1001</td>\n",
       "      <td>AL</td>\n",
       "      <td>Autauga County, Alabama</td>\n",
       "      <td>13.2%</td>\n",
       "      <td>7,270</td>\n",
       "      <td>19.8%</td>\n",
       "      <td>2,670</td>\n",
       "      <td>$3.19</td>\n",
       "      <td>$3,957,000.00</td>\n",
       "      <td>NaN</td>\n",
       "    </tr>\n",
       "    <tr>\n",
       "      <th>1</th>\n",
       "      <td>1003</td>\n",
       "      <td>AL</td>\n",
       "      <td>Baldwin County, Alabama</td>\n",
       "      <td>11.6%</td>\n",
       "      <td>23,560</td>\n",
       "      <td>18.9%</td>\n",
       "      <td>8,480</td>\n",
       "      <td>$3.57</td>\n",
       "      <td>$14,361,000.00</td>\n",
       "      <td>NaN</td>\n",
       "    </tr>\n",
       "    <tr>\n",
       "      <th>2</th>\n",
       "      <td>1005</td>\n",
       "      <td>AL</td>\n",
       "      <td>Barbour County, Alabama</td>\n",
       "      <td>22.0%</td>\n",
       "      <td>5,760</td>\n",
       "      <td>27.6%</td>\n",
       "      <td>1,520</td>\n",
       "      <td>$3.09</td>\n",
       "      <td>$3,035,000.00</td>\n",
       "      <td>NaN</td>\n",
       "    </tr>\n",
       "    <tr>\n",
       "      <th>3</th>\n",
       "      <td>1007</td>\n",
       "      <td>AL</td>\n",
       "      <td>Bibb County, Alabama</td>\n",
       "      <td>14.3%</td>\n",
       "      <td>3,240</td>\n",
       "      <td>22.1%</td>\n",
       "      <td>1,050</td>\n",
       "      <td>$3.05</td>\n",
       "      <td>$1,684,000.00</td>\n",
       "      <td>NaN</td>\n",
       "    </tr>\n",
       "    <tr>\n",
       "      <th>4</th>\n",
       "      <td>1009</td>\n",
       "      <td>AL</td>\n",
       "      <td>Blount County, Alabama</td>\n",
       "      <td>10.7%</td>\n",
       "      <td>6,140</td>\n",
       "      <td>21.2%</td>\n",
       "      <td>2,880</td>\n",
       "      <td>$3.10</td>\n",
       "      <td>$3,249,000.00</td>\n",
       "      <td>NaN</td>\n",
       "    </tr>\n",
       "    <tr>\n",
       "      <th>...</th>\n",
       "      <td>...</td>\n",
       "      <td>...</td>\n",
       "      <td>...</td>\n",
       "      <td>...</td>\n",
       "      <td>...</td>\n",
       "      <td>...</td>\n",
       "      <td>...</td>\n",
       "      <td>...</td>\n",
       "      <td>...</td>\n",
       "      <td>...</td>\n",
       "    </tr>\n",
       "    <tr>\n",
       "      <th>3137</th>\n",
       "      <td>56037</td>\n",
       "      <td>WY</td>\n",
       "      <td>Sweetwater County, Wyoming</td>\n",
       "      <td>10.7%</td>\n",
       "      <td>4,750</td>\n",
       "      <td>17.0%</td>\n",
       "      <td>2,030</td>\n",
       "      <td>$3.14</td>\n",
       "      <td>$2,542,000.00</td>\n",
       "      <td>NaN</td>\n",
       "    </tr>\n",
       "    <tr>\n",
       "      <th>3138</th>\n",
       "      <td>56039</td>\n",
       "      <td>WY</td>\n",
       "      <td>Teton County, Wyoming</td>\n",
       "      <td>9.7%</td>\n",
       "      <td>2,220</td>\n",
       "      <td>11.7%</td>\n",
       "      <td>520</td>\n",
       "      <td>$4.20</td>\n",
       "      <td>$1,592,000.00</td>\n",
       "      <td>NaN</td>\n",
       "    </tr>\n",
       "    <tr>\n",
       "      <th>3139</th>\n",
       "      <td>56041</td>\n",
       "      <td>WY</td>\n",
       "      <td>Uinta County, Wyoming</td>\n",
       "      <td>12.8%</td>\n",
       "      <td>2,660</td>\n",
       "      <td>18.9%</td>\n",
       "      <td>1,160</td>\n",
       "      <td>$2.95</td>\n",
       "      <td>$1,340,000.00</td>\n",
       "      <td>NaN</td>\n",
       "    </tr>\n",
       "    <tr>\n",
       "      <th>3140</th>\n",
       "      <td>56043</td>\n",
       "      <td>WY</td>\n",
       "      <td>Washakie County, Wyoming</td>\n",
       "      <td>11.2%</td>\n",
       "      <td>920</td>\n",
       "      <td>17.4%</td>\n",
       "      <td>350</td>\n",
       "      <td>$3.16</td>\n",
       "      <td>$497,000.00</td>\n",
       "      <td>NaN</td>\n",
       "    </tr>\n",
       "    <tr>\n",
       "      <th>3141</th>\n",
       "      <td>56045</td>\n",
       "      <td>WY</td>\n",
       "      <td>Weston County, Wyoming</td>\n",
       "      <td>13.1%</td>\n",
       "      <td>940</td>\n",
       "      <td>20.2%</td>\n",
       "      <td>300</td>\n",
       "      <td>$3.15</td>\n",
       "      <td>$505,000.00</td>\n",
       "      <td>NaN</td>\n",
       "    </tr>\n",
       "  </tbody>\n",
       "</table>\n",
       "<p>3142 rows × 10 columns</p>\n",
       "</div>"
      ],
      "text/plain": [
       "       FIPS state                county_state  fi_rate total_fi_people  \\\n",
       "0      1001    AL     Autauga County, Alabama    13.2%          7,270    \n",
       "1      1003    AL     Baldwin County, Alabama    11.6%         23,560    \n",
       "2      1005    AL     Barbour County, Alabama    22.0%          5,760    \n",
       "3      1007    AL        Bibb County, Alabama    14.3%          3,240    \n",
       "4      1009    AL      Blount County, Alabama    10.7%          6,140    \n",
       "...     ...   ...                         ...      ...             ...   \n",
       "3137  56037    WY  Sweetwater County, Wyoming    10.7%          4,750    \n",
       "3138  56039    WY       Teton County, Wyoming     9.7%          2,220    \n",
       "3139  56041    WY       Uinta County, Wyoming    12.8%          2,660    \n",
       "3140  56043    WY    Washakie County, Wyoming    11.2%            920    \n",
       "3141  56045    WY      Weston County, Wyoming    13.1%            940    \n",
       "\n",
       "     child_fi_rate num_fi_children cost_per_meal  \\\n",
       "0            19.8%          2,670          $3.19   \n",
       "1            18.9%          8,480          $3.57   \n",
       "2            27.6%          1,520          $3.09   \n",
       "3            22.1%          1,050          $3.05   \n",
       "4            21.2%          2,880          $3.10   \n",
       "...            ...             ...           ...   \n",
       "3137         17.0%          2,030          $3.14   \n",
       "3138         11.7%            520          $4.20   \n",
       "3139         18.9%          1,160          $2.95   \n",
       "3140         17.4%            350          $3.16   \n",
       "3141         20.2%            300          $3.15   \n",
       "\n",
       "     est_annual_food_budget_shortfall  Unnamed: 9  \n",
       "0                       $3,957,000.00         NaN  \n",
       "1                      $14,361,000.00         NaN  \n",
       "2                       $3,035,000.00         NaN  \n",
       "3                       $1,684,000.00         NaN  \n",
       "4                       $3,249,000.00         NaN  \n",
       "...                               ...         ...  \n",
       "3137                    $2,542,000.00         NaN  \n",
       "3138                    $1,592,000.00         NaN  \n",
       "3139                    $1,340,000.00         NaN  \n",
       "3140                      $497,000.00         NaN  \n",
       "3141                      $505,000.00         NaN  \n",
       "\n",
       "[3142 rows x 10 columns]"
      ]
     },
     "execution_count": 16,
     "metadata": {},
     "output_type": "execute_result"
    }
   ],
   "source": [
    "food_insecurity"
   ]
  },
  {
   "cell_type": "code",
   "execution_count": 17,
   "id": "4d461571",
   "metadata": {},
   "outputs": [],
   "source": [
    "# deleting county_state because it does not match our naming conventions; the FIPS remains in tact. Thus its fine.\n",
    "del food_insecurity[\"Unnamed: 9\"]\n",
    "del food_insecurity[\"county_state\"]"
   ]
  },
  {
   "cell_type": "code",
   "execution_count": 18,
   "id": "0e4a9b36",
   "metadata": {},
   "outputs": [],
   "source": [
    "# I had to change the FIPS from uppercase to lowercase\n",
    "food_insecurity.columns = [\"fips\",\"state\",\"fi_rate\",\"total_fi_people\", \"child_fi_rate\",\"num_fi_children\", \"cost_per_meal\", \"est_annual_food_budget_shortfall\"]"
   ]
  },
  {
   "cell_type": "code",
   "execution_count": 19,
   "id": "47ada3c5",
   "metadata": {},
   "outputs": [],
   "source": [
    "# adding region column\n",
    "food_insecurity[\"region\"] = food_insecurity[\"state\"].map(states)"
   ]
  },
  {
   "cell_type": "code",
   "execution_count": 20,
   "id": "261667a3",
   "metadata": {},
   "outputs": [],
   "source": [
    "#removing the percent symbol from fi_rate\n",
    "fi_rate_clean = food_insecurity[\"fi_rate\"].str.replace(r\"%\", \"\", regex=True)\n",
    "food_insecurity = food_insecurity.assign(fi_rate = fi_rate_clean)\n",
    "\n",
    "#removing the the percent symbol from child_fi_rate\n",
    "child_fi_rate_clean = food_insecurity[\"child_fi_rate\"].str.replace(r\"%\", \"\", regex=True)\n",
    "food_insecurity = food_insecurity.assign(child_fi_rate = child_fi_rate_clean)\n",
    "\n",
    "#removing dollar signs\n",
    "no_dollar_cpm = food_insecurity[\"cost_per_meal\"].str.replace(r\"$\", \"\", regex=True)\n",
    "food_insecurity = food_insecurity.assign(cost_per_meal = no_dollar_cpm)\n",
    "\n",
    "no_dollar_sf = food_insecurity[\"est_annual_food_budget_shortfall\"].str.replace(r\"$\", \"\", regex=True)\n",
    "food_insecurity = food_insecurity.assign(est_annual_food_budget_shortfall = no_dollar_sf)\n",
    "\n",
    "#removing commas\n",
    "no_commas_fi = food_insecurity[\"total_fi_people\"].str.replace(r\",\", \"\", regex=True)\n",
    "food_insecurity = food_insecurity.assign(total_fi_people = no_commas_fi)\n",
    "\n",
    "no_commas_num = food_insecurity[\"num_fi_children\"].str.replace(r\",\", \"\", regex=True)\n",
    "food_insecurity = food_insecurity.assign(num_fi_children = no_commas_num)\n",
    "\n",
    "no_commas_sf = food_insecurity[\"est_annual_food_budget_shortfall\"].str.replace(r\",\", \"\", regex=True)\n",
    "food_insecurity = food_insecurity.assign(est_annual_food_budget_shortfall = no_commas_sf)"
   ]
  },
  {
   "cell_type": "code",
   "execution_count": 21,
   "id": "c9ddf1a7",
   "metadata": {},
   "outputs": [],
   "source": [
    "# changing fips to category\n",
    "food_insecurity['fips'] = food_insecurity['fips'].astype('category')\n",
    "food_insecurity['region'] = food_insecurity['region'].astype('category')\n",
    "\n",
    "# changing strings to numeric values \n",
    "food_insecurity['fi_rate'] = pd.to_numeric(food_insecurity['fi_rate'])\n",
    "food_insecurity['total_fi_people'] = pd.to_numeric(food_insecurity['total_fi_people'])\n",
    "food_insecurity['child_fi_rate'] = pd.to_numeric(food_insecurity['child_fi_rate'])\n",
    "#food_insecurity['num_fi_children'] = pd.to_numeric(food_insecurity['num_fi_children'])\n",
    "food_insecurity['cost_per_meal'] = pd.to_numeric(food_insecurity['cost_per_meal'])\n",
    "food_insecurity['est_annual_food_budget_shortfall'] = pd.to_numeric(food_insecurity['est_annual_food_budget_shortfall'])"
   ]
  },
  {
   "cell_type": "code",
   "execution_count": 22,
   "id": "c058a42d",
   "metadata": {
    "scrolled": true
   },
   "outputs": [
    {
     "data": {
      "text/html": [
       "<div>\n",
       "<style scoped>\n",
       "    .dataframe tbody tr th:only-of-type {\n",
       "        vertical-align: middle;\n",
       "    }\n",
       "\n",
       "    .dataframe tbody tr th {\n",
       "        vertical-align: top;\n",
       "    }\n",
       "\n",
       "    .dataframe thead th {\n",
       "        text-align: right;\n",
       "    }\n",
       "</style>\n",
       "<table border=\"1\" class=\"dataframe\">\n",
       "  <thead>\n",
       "    <tr style=\"text-align: right;\">\n",
       "      <th></th>\n",
       "      <th>fi_rate</th>\n",
       "      <th>total_fi_people</th>\n",
       "      <th>child_fi_rate</th>\n",
       "      <th>cost_per_meal</th>\n",
       "      <th>est_annual_food_budget_shortfall</th>\n",
       "    </tr>\n",
       "  </thead>\n",
       "  <tbody>\n",
       "    <tr>\n",
       "      <th>count</th>\n",
       "      <td>3142.000000</td>\n",
       "      <td>3.142000e+03</td>\n",
       "      <td>3142.000000</td>\n",
       "      <td>3142.000000</td>\n",
       "      <td>3.142000e+03</td>\n",
       "    </tr>\n",
       "    <tr>\n",
       "      <th>mean</th>\n",
       "      <td>13.250796</td>\n",
       "      <td>1.282431e+04</td>\n",
       "      <td>19.366741</td>\n",
       "      <td>3.020035</td>\n",
       "      <td>6.907029e+06</td>\n",
       "    </tr>\n",
       "    <tr>\n",
       "      <th>std</th>\n",
       "      <td>3.960291</td>\n",
       "      <td>4.119477e+04</td>\n",
       "      <td>4.473126</td>\n",
       "      <td>0.317325</td>\n",
       "      <td>2.295224e+07</td>\n",
       "    </tr>\n",
       "    <tr>\n",
       "      <th>min</th>\n",
       "      <td>2.900000</td>\n",
       "      <td>1.000000e+01</td>\n",
       "      <td>6.400000</td>\n",
       "      <td>2.070000</td>\n",
       "      <td>5.000000e+03</td>\n",
       "    </tr>\n",
       "    <tr>\n",
       "      <th>25%</th>\n",
       "      <td>10.600000</td>\n",
       "      <td>1.480000e+03</td>\n",
       "      <td>16.300000</td>\n",
       "      <td>2.830000</td>\n",
       "      <td>7.380000e+05</td>\n",
       "    </tr>\n",
       "    <tr>\n",
       "      <th>50%</th>\n",
       "      <td>12.800000</td>\n",
       "      <td>3.505000e+03</td>\n",
       "      <td>19.100000</td>\n",
       "      <td>2.980000</td>\n",
       "      <td>1.779000e+06</td>\n",
       "    </tr>\n",
       "    <tr>\n",
       "      <th>75%</th>\n",
       "      <td>15.200000</td>\n",
       "      <td>8.910000e+03</td>\n",
       "      <td>22.300000</td>\n",
       "      <td>3.160000</td>\n",
       "      <td>4.510250e+06</td>\n",
       "    </tr>\n",
       "    <tr>\n",
       "      <th>max</th>\n",
       "      <td>36.300000</td>\n",
       "      <td>1.135710e+06</td>\n",
       "      <td>39.600000</td>\n",
       "      <td>6.200000</td>\n",
       "      <td>6.569320e+08</td>\n",
       "    </tr>\n",
       "  </tbody>\n",
       "</table>\n",
       "</div>"
      ],
      "text/plain": [
       "           fi_rate  total_fi_people  child_fi_rate  cost_per_meal  \\\n",
       "count  3142.000000     3.142000e+03    3142.000000    3142.000000   \n",
       "mean     13.250796     1.282431e+04      19.366741       3.020035   \n",
       "std       3.960291     4.119477e+04       4.473126       0.317325   \n",
       "min       2.900000     1.000000e+01       6.400000       2.070000   \n",
       "25%      10.600000     1.480000e+03      16.300000       2.830000   \n",
       "50%      12.800000     3.505000e+03      19.100000       2.980000   \n",
       "75%      15.200000     8.910000e+03      22.300000       3.160000   \n",
       "max      36.300000     1.135710e+06      39.600000       6.200000   \n",
       "\n",
       "       est_annual_food_budget_shortfall  \n",
       "count                      3.142000e+03  \n",
       "mean                       6.907029e+06  \n",
       "std                        2.295224e+07  \n",
       "min                        5.000000e+03  \n",
       "25%                        7.380000e+05  \n",
       "50%                        1.779000e+06  \n",
       "75%                        4.510250e+06  \n",
       "max                        6.569320e+08  "
      ]
     },
     "execution_count": 22,
     "metadata": {},
     "output_type": "execute_result"
    }
   ],
   "source": [
    "food_insecurity.describe()"
   ]
  },
  {
   "cell_type": "code",
   "execution_count": 23,
   "id": "61906fbf",
   "metadata": {},
   "outputs": [
    {
     "data": {
      "text/plain": [
       "state                                   AK\n",
       "fi_rate                                2.9\n",
       "total_fi_people                         10\n",
       "child_fi_rate                          6.4\n",
       "num_fi_children                       -   \n",
       "cost_per_meal                         2.07\n",
       "est_annual_food_budget_shortfall    5000.0\n",
       "dtype: object"
      ]
     },
     "execution_count": 23,
     "metadata": {},
     "output_type": "execute_result"
    }
   ],
   "source": [
    "# Checking for NaN values. They have 'nan' in place of NaN\n",
    "\n",
    "food_insecurity.isnull().values.any()\n",
    "food_insecurity.min()"
   ]
  },
  {
   "cell_type": "code",
   "execution_count": 24,
   "id": "6e2f55ec",
   "metadata": {},
   "outputs": [
    {
     "name": "stdout",
     "output_type": "stream",
     "text": [
      "\n",
      "None of thses values exists in Dataframe\n"
     ]
    }
   ],
   "source": [
    "# Checking to see if theres a -9999 or a blank cell\n",
    "\n",
    "res2 = food_insecurity.isin(['-9999','', 'NaN', '-']).any().any()\n",
    "  \n",
    "if res2:\n",
    "    print(\"\\nany of the mention value exists in Dataframe\")\n",
    "      \n",
    "else:\n",
    "    print(\"\\nNone of thses values exists in Dataframe\")"
   ]
  },
  {
   "cell_type": "code",
   "execution_count": 25,
   "id": "eeaba33c",
   "metadata": {
    "scrolled": true
   },
   "outputs": [],
   "source": [
    "region_fi = food_insecurity_copy[[\"region\", \"fi_rate\"]]"
   ]
  },
  {
   "cell_type": "code",
   "execution_count": 26,
   "id": "44193bad",
   "metadata": {
    "scrolled": true
   },
   "outputs": [
    {
     "data": {
      "image/png": "[encoded data removed]",
      "text/plain": [
       "<Figure size 432x288 with 1 Axes>"
      ]
     },
     "metadata": {
      "needs_background": "light"
     },
     "output_type": "display_data"
    }
   ],
   "source": [
    "fi_boxplot = sns.boxplot(x=\"region\", y=\"fi_rate\", showfliers= True, data= region_fi)"
   ]
  },
  {
   "cell_type": "markdown",
   "id": "7573b14a",
   "metadata": {},
   "source": [
    "Food Insecurity (FI) is generally higher in the South; however, it is not significant. "
   ]
  },
  {
   "cell_type": "code",
   "execution_count": 27,
   "id": "8be280ed",
   "metadata": {},
   "outputs": [
    {
     "data": {
      "image/png": "[encoded data removed]",
      "text/plain": [
       "<Figure size 432x288 with 1 Axes>"
      ]
     },
     "metadata": {
      "needs_background": "light"
     },
     "output_type": "display_data"
    }
   ],
   "source": [
    "child_fi_boxplot = sns.boxplot(x=\"region\", y=\"child_fi_rate\", showfliers= True, data= food_insecurity)"
   ]
  },
  {
   "cell_type": "markdown",
   "id": "9ec397f3",
   "metadata": {},
   "source": [
    "child food insecurity is again generally higher in the south but not significant"
   ]
  },
  {
   "cell_type": "code",
   "execution_count": 28,
   "id": "22e0a04a",
   "metadata": {},
   "outputs": [
    {
     "data": {
      "image/png": "[encoded data removed]",
      "text/plain": [
       "<Figure size 432x288 with 1 Axes>"
      ]
     },
     "metadata": {
      "needs_background": "light"
     },
     "output_type": "display_data"
    }
   ],
   "source": [
    "cpm_boxplot = sns.boxplot(x=\"region\", y=\"cost_per_meal\", showfliers= True, data= food_insecurity)"
   ]
  },
  {
   "cell_type": "markdown",
   "id": "8363a1f2",
   "metadata": {},
   "source": [
    "The cost per meal is highest in \"other\" and the north.  Surprisngly, its lowest in the south. Again, its not super significant but worth noting"
   ]
  },
  {
   "cell_type": "code",
   "execution_count": 29,
   "id": "c52f4338",
   "metadata": {},
   "outputs": [
    {
     "data": {
      "image/png": "[encoded data removed]",
      "text/plain": [
       "<Figure size 432x288 with 1 Axes>"
      ]
     },
     "metadata": {
      "needs_background": "light"
     },
     "output_type": "display_data"
    }
   ],
   "source": [
    "budget_boxplot = sns.boxplot(x=\"region\", y=\"est_annual_food_budget_shortfall\", showfliers= True, data= food_insecurity)"
   ]
  },
  {
   "cell_type": "markdown",
   "id": "1386f28d",
   "metadata": {},
   "source": [
    "estimated annual food shortfall budget is around the thousands with numerous outliers, but this graph is mostly useless"
   ]
  },
  {
   "cell_type": "code",
   "execution_count": 30,
   "id": "c40dce3a",
   "metadata": {},
   "outputs": [
    {
     "data": {
      "text/html": [
       "<div>\n",
       "<style scoped>\n",
       "    .dataframe tbody tr th:only-of-type {\n",
       "        vertical-align: middle;\n",
       "    }\n",
       "\n",
       "    .dataframe tbody tr th {\n",
       "        vertical-align: top;\n",
       "    }\n",
       "\n",
       "    .dataframe thead th {\n",
       "        text-align: right;\n",
       "    }\n",
       "</style>\n",
       "<table border=\"1\" class=\"dataframe\">\n",
       "  <thead>\n",
       "    <tr style=\"text-align: right;\">\n",
       "      <th></th>\n",
       "      <th>fi_rate</th>\n",
       "      <th>total_fi_people</th>\n",
       "      <th>child_fi_rate</th>\n",
       "      <th>cost_per_meal</th>\n",
       "      <th>est_annual_food_budget_shortfall</th>\n",
       "    </tr>\n",
       "    <tr>\n",
       "      <th>region</th>\n",
       "      <th></th>\n",
       "      <th></th>\n",
       "      <th></th>\n",
       "      <th></th>\n",
       "      <th></th>\n",
       "    </tr>\n",
       "  </thead>\n",
       "  <tbody>\n",
       "    <tr>\n",
       "      <th>M</th>\n",
       "      <td>11.322981</td>\n",
       "      <td>7682.923777</td>\n",
       "      <td>16.998407</td>\n",
       "      <td>2.903197</td>\n",
       "      <td>3.850265e+06</td>\n",
       "    </tr>\n",
       "    <tr>\n",
       "      <th>N</th>\n",
       "      <td>10.889388</td>\n",
       "      <td>28187.918367</td>\n",
       "      <td>16.727755</td>\n",
       "      <td>3.317918</td>\n",
       "      <td>1.665676e+07</td>\n",
       "    </tr>\n",
       "    <tr>\n",
       "      <th>O</th>\n",
       "      <td>14.729412</td>\n",
       "      <td>7298.823529</td>\n",
       "      <td>20.602941</td>\n",
       "      <td>3.681765</td>\n",
       "      <td>4.413588e+06</td>\n",
       "    </tr>\n",
       "    <tr>\n",
       "      <th>S</th>\n",
       "      <td>15.214491</td>\n",
       "      <td>11598.586801</td>\n",
       "      <td>21.713989</td>\n",
       "      <td>2.967023</td>\n",
       "      <td>6.059086e+06</td>\n",
       "    </tr>\n",
       "    <tr>\n",
       "      <th>W</th>\n",
       "      <td>12.378644</td>\n",
       "      <td>17318.728814</td>\n",
       "      <td>18.373898</td>\n",
       "      <td>3.157525</td>\n",
       "      <td>9.559608e+06</td>\n",
       "    </tr>\n",
       "  </tbody>\n",
       "</table>\n",
       "</div>"
      ],
      "text/plain": [
       "          fi_rate  total_fi_people  child_fi_rate  cost_per_meal  \\\n",
       "region                                                             \n",
       "M       11.322981      7682.923777      16.998407       2.903197   \n",
       "N       10.889388     28187.918367      16.727755       3.317918   \n",
       "O       14.729412      7298.823529      20.602941       3.681765   \n",
       "S       15.214491     11598.586801      21.713989       2.967023   \n",
       "W       12.378644     17318.728814      18.373898       3.157525   \n",
       "\n",
       "        est_annual_food_budget_shortfall  \n",
       "region                                    \n",
       "M                           3.850265e+06  \n",
       "N                           1.665676e+07  \n",
       "O                           4.413588e+06  \n",
       "S                           6.059086e+06  \n",
       "W                           9.559608e+06  "
      ]
     },
     "execution_count": 30,
     "metadata": {},
     "output_type": "execute_result"
    }
   ],
   "source": [
    "region_fi_avg = food_insecurity.groupby('region').mean()\n",
    "region_fi_avg"
   ]
  },
  {
   "cell_type": "code",
   "execution_count": 31,
   "id": "c8358c08",
   "metadata": {
    "scrolled": true
   },
   "outputs": [
    {
     "data": {
      "text/plain": [
       "Text(0, 0.5, 'Shortfall in USD')"
      ]
     },
     "execution_count": 31,
     "metadata": {},
     "output_type": "execute_result"
    },
    {
     "data": {
      "image/png": "[encoded data removed]",
      "text/plain": [
       "<Figure size 432x288 with 1 Axes>"
      ]
     },
     "metadata": {
      "needs_background": "light"
     },
     "output_type": "display_data"
    }
   ],
   "source": [
    "# creating boxplot\n",
    "budget_bp = region_fi_avg[\"est_annual_food_budget_shortfall\"].plot.bar()\n",
    "\n",
    "# labeling \n",
    "budget_bp.set_title(\"Average amount of Food Shortfall in Budget\")\n",
    "budget_bp.set_xlabel(\"Region\")\n",
    "budget_bp.set_ylabel(\"Shortfall in USD\")"
   ]
  },
  {
   "cell_type": "markdown",
   "id": "0245da7b",
   "metadata": {},
   "source": [
    "The North. Yikes"
   ]
  },
  {
   "cell_type": "code",
   "execution_count": 32,
   "id": "19bea9c2",
   "metadata": {
    "scrolled": true
   },
   "outputs": [
    {
     "data": {
      "text/plain": [
       "Text(0, 0.5, 'Rate')"
      ]
     },
     "execution_count": 32,
     "metadata": {},
     "output_type": "execute_result"
    },
    {
     "data": {
      "image/png": "[encoded data removed]",
      "text/plain": [
       "<Figure size 432x288 with 1 Axes>"
      ]
     },
     "metadata": {
      "needs_background": "light"
     },
     "output_type": "display_data"
    }
   ],
   "source": [
    "# creating boxplot\n",
    "boxplot = region_fi_avg[\"fi_rate\"].plot.bar()\n",
    "\n",
    "# labeling \n",
    "boxplot.set_title(\"Average Rate of Food Insecure people per region\")\n",
    "boxplot.set_xlabel(\"Region\")\n",
    "boxplot.set_ylabel(\"Rate\")"
   ]
  },
  {
   "cell_type": "code",
   "execution_count": 65,
   "id": "25a8561d",
   "metadata": {},
   "outputs": [
    {
     "data": {
      "text/html": [
       "<div>\n",
       "<style scoped>\n",
       "    .dataframe tbody tr th:only-of-type {\n",
       "        vertical-align: middle;\n",
       "    }\n",
       "\n",
       "    .dataframe tbody tr th {\n",
       "        vertical-align: top;\n",
       "    }\n",
       "\n",
       "    .dataframe thead th {\n",
       "        text-align: right;\n",
       "    }\n",
       "</style>\n",
       "<table border=\"1\" class=\"dataframe\">\n",
       "  <thead>\n",
       "    <tr style=\"text-align: right;\">\n",
       "      <th></th>\n",
       "      <th>fips</th>\n",
       "      <th>state</th>\n",
       "      <th>fi_rate</th>\n",
       "      <th>total_fi_people</th>\n",
       "      <th>child_fi_rate</th>\n",
       "      <th>num_fi_children</th>\n",
       "      <th>cost_per_meal</th>\n",
       "      <th>est_annual_food_budget_shortfall</th>\n",
       "      <th>region</th>\n",
       "    </tr>\n",
       "  </thead>\n",
       "  <tbody>\n",
       "    <tr>\n",
       "      <th>0</th>\n",
       "      <td>1001</td>\n",
       "      <td>AL</td>\n",
       "      <td>13.2</td>\n",
       "      <td>7270</td>\n",
       "      <td>19.8</td>\n",
       "      <td>2670</td>\n",
       "      <td>3.19</td>\n",
       "      <td>3957000.0</td>\n",
       "      <td>S</td>\n",
       "    </tr>\n",
       "    <tr>\n",
       "      <th>1</th>\n",
       "      <td>1003</td>\n",
       "      <td>AL</td>\n",
       "      <td>11.6</td>\n",
       "      <td>23560</td>\n",
       "      <td>18.9</td>\n",
       "      <td>8480</td>\n",
       "      <td>3.57</td>\n",
       "      <td>14361000.0</td>\n",
       "      <td>S</td>\n",
       "    </tr>\n",
       "    <tr>\n",
       "      <th>2</th>\n",
       "      <td>1005</td>\n",
       "      <td>AL</td>\n",
       "      <td>22.0</td>\n",
       "      <td>5760</td>\n",
       "      <td>27.6</td>\n",
       "      <td>1520</td>\n",
       "      <td>3.09</td>\n",
       "      <td>3035000.0</td>\n",
       "      <td>S</td>\n",
       "    </tr>\n",
       "    <tr>\n",
       "      <th>3</th>\n",
       "      <td>1007</td>\n",
       "      <td>AL</td>\n",
       "      <td>14.3</td>\n",
       "      <td>3240</td>\n",
       "      <td>22.1</td>\n",
       "      <td>1050</td>\n",
       "      <td>3.05</td>\n",
       "      <td>1684000.0</td>\n",
       "      <td>S</td>\n",
       "    </tr>\n",
       "    <tr>\n",
       "      <th>4</th>\n",
       "      <td>1009</td>\n",
       "      <td>AL</td>\n",
       "      <td>10.7</td>\n",
       "      <td>6140</td>\n",
       "      <td>21.2</td>\n",
       "      <td>2880</td>\n",
       "      <td>3.10</td>\n",
       "      <td>3249000.0</td>\n",
       "      <td>S</td>\n",
       "    </tr>\n",
       "    <tr>\n",
       "      <th>...</th>\n",
       "      <td>...</td>\n",
       "      <td>...</td>\n",
       "      <td>...</td>\n",
       "      <td>...</td>\n",
       "      <td>...</td>\n",
       "      <td>...</td>\n",
       "      <td>...</td>\n",
       "      <td>...</td>\n",
       "      <td>...</td>\n",
       "    </tr>\n",
       "    <tr>\n",
       "      <th>3137</th>\n",
       "      <td>56037</td>\n",
       "      <td>WY</td>\n",
       "      <td>10.7</td>\n",
       "      <td>4750</td>\n",
       "      <td>17.0</td>\n",
       "      <td>2030</td>\n",
       "      <td>3.14</td>\n",
       "      <td>2542000.0</td>\n",
       "      <td>W</td>\n",
       "    </tr>\n",
       "    <tr>\n",
       "      <th>3138</th>\n",
       "      <td>56039</td>\n",
       "      <td>WY</td>\n",
       "      <td>9.7</td>\n",
       "      <td>2220</td>\n",
       "      <td>11.7</td>\n",
       "      <td>520</td>\n",
       "      <td>4.20</td>\n",
       "      <td>1592000.0</td>\n",
       "      <td>W</td>\n",
       "    </tr>\n",
       "    <tr>\n",
       "      <th>3139</th>\n",
       "      <td>56041</td>\n",
       "      <td>WY</td>\n",
       "      <td>12.8</td>\n",
       "      <td>2660</td>\n",
       "      <td>18.9</td>\n",
       "      <td>1160</td>\n",
       "      <td>2.95</td>\n",
       "      <td>1340000.0</td>\n",
       "      <td>W</td>\n",
       "    </tr>\n",
       "    <tr>\n",
       "      <th>3140</th>\n",
       "      <td>56043</td>\n",
       "      <td>WY</td>\n",
       "      <td>11.2</td>\n",
       "      <td>920</td>\n",
       "      <td>17.4</td>\n",
       "      <td>350</td>\n",
       "      <td>3.16</td>\n",
       "      <td>497000.0</td>\n",
       "      <td>W</td>\n",
       "    </tr>\n",
       "    <tr>\n",
       "      <th>3141</th>\n",
       "      <td>56045</td>\n",
       "      <td>WY</td>\n",
       "      <td>13.1</td>\n",
       "      <td>940</td>\n",
       "      <td>20.2</td>\n",
       "      <td>300</td>\n",
       "      <td>3.15</td>\n",
       "      <td>505000.0</td>\n",
       "      <td>W</td>\n",
       "    </tr>\n",
       "  </tbody>\n",
       "</table>\n",
       "<p>3142 rows × 9 columns</p>\n",
       "</div>"
      ],
      "text/plain": [
       "       fips state  fi_rate  total_fi_people  child_fi_rate num_fi_children  \\\n",
       "0      1001    AL     13.2             7270           19.8           2670    \n",
       "1      1003    AL     11.6            23560           18.9           8480    \n",
       "2      1005    AL     22.0             5760           27.6           1520    \n",
       "3      1007    AL     14.3             3240           22.1           1050    \n",
       "4      1009    AL     10.7             6140           21.2           2880    \n",
       "...     ...   ...      ...              ...            ...             ...   \n",
       "3137  56037    WY     10.7             4750           17.0           2030    \n",
       "3138  56039    WY      9.7             2220           11.7            520    \n",
       "3139  56041    WY     12.8             2660           18.9           1160    \n",
       "3140  56043    WY     11.2              920           17.4            350    \n",
       "3141  56045    WY     13.1              940           20.2            300    \n",
       "\n",
       "      cost_per_meal  est_annual_food_budget_shortfall region  \n",
       "0              3.19                         3957000.0      S  \n",
       "1              3.57                        14361000.0      S  \n",
       "2              3.09                         3035000.0      S  \n",
       "3              3.05                         1684000.0      S  \n",
       "4              3.10                         3249000.0      S  \n",
       "...             ...                               ...    ...  \n",
       "3137           3.14                         2542000.0      W  \n",
       "3138           4.20                         1592000.0      W  \n",
       "3139           2.95                         1340000.0      W  \n",
       "3140           3.16                          497000.0      W  \n",
       "3141           3.15                          505000.0      W  \n",
       "\n",
       "[3142 rows x 9 columns]"
      ]
     },
     "execution_count": 65,
     "metadata": {},
     "output_type": "execute_result"
    }
   ],
   "source": [
    "food_insecurity"
   ]
  },
  {
   "cell_type": "markdown",
   "id": "5c13e9f8",
   "metadata": {},
   "source": [
    "## Farner's Market Data"
   ]
  },
  {
   "cell_type": "markdown",
   "id": "658945fd",
   "metadata": {},
   "source": [
    "Cleaning farmer's market data"
   ]
  },
  {
   "cell_type": "code",
   "execution_count": 34,
   "id": "c519a139",
   "metadata": {},
   "outputs": [],
   "source": [
    "# reading in the food insecurity file\n",
    "farm = pd.read_csv('Data/local_farm_Data.csv')"
   ]
  },
  {
   "cell_type": "code",
   "execution_count": 35,
   "id": "330b5653",
   "metadata": {},
   "outputs": [
    {
     "name": "stdout",
     "output_type": "stream",
     "text": [
      "<class 'pandas.core.frame.DataFrame'>\n",
      "RangeIndex: 3143 entries, 0 to 3142\n",
      "Data columns (total 19 columns):\n",
      " #   Column                    Non-Null Count  Dtype  \n",
      "---  ------                    --------------  -----  \n",
      " 0   FIPS                      3143 non-null   int64  \n",
      " 1   State                     3143 non-null   object \n",
      " 2   County                    3143 non-null   object \n",
      " 3   farmers_markets_2018      3142 non-null   float64\n",
      " 4   farmers_markets_per_1000  3140 non-null   float64\n",
      " 5   fm_accepts_snap           3142 non-null   float64\n",
      " 6   pct_fm_accepting_snap     3142 non-null   float64\n",
      " 7   fm_accept_wic             3142 non-null   float64\n",
      " 8   pct_fm_accept_wic         3142 non-null   float64\n",
      " 9   fm_accept_wic_cash        3142 non-null   float64\n",
      " 10  pct_fm_accept_wic_cash    3142 non-null   float64\n",
      " 11  fm_accept_sfmnp           3142 non-null   float64\n",
      " 12  pct_fm_accept_sfmnp       3142 non-null   float64\n",
      " 13  fm_accept_credit          3142 non-null   float64\n",
      " 14  pct_fm_credit             3142 non-null   float64\n",
      " 15  fm_sell_frveg             3142 non-null   float64\n",
      " 16  pct_fm_sell_frveg         3142 non-null   float64\n",
      " 17  fm_sell_anipr             3142 non-null   float64\n",
      " 18  pct_fm_sell_anipr         3142 non-null   float64\n",
      "dtypes: float64(16), int64(1), object(2)\n",
      "memory usage: 466.7+ KB\n"
     ]
    }
   ],
   "source": [
    "farm.info()"
   ]
  },
  {
   "cell_type": "code",
   "execution_count": 36,
   "id": "bfba0d3d",
   "metadata": {
    "scrolled": false
   },
   "outputs": [],
   "source": [
    "farm = farm.drop_duplicates(subset=['FIPS'])"
   ]
  },
  {
   "cell_type": "code",
   "execution_count": 37,
   "id": "cf803016",
   "metadata": {
    "scrolled": true
   },
   "outputs": [
    {
     "data": {
      "text/html": [
       "<div>\n",
       "<style scoped>\n",
       "    .dataframe tbody tr th:only-of-type {\n",
       "        vertical-align: middle;\n",
       "    }\n",
       "\n",
       "    .dataframe tbody tr th {\n",
       "        vertical-align: top;\n",
       "    }\n",
       "\n",
       "    .dataframe thead th {\n",
       "        text-align: right;\n",
       "    }\n",
       "</style>\n",
       "<table border=\"1\" class=\"dataframe\">\n",
       "  <thead>\n",
       "    <tr style=\"text-align: right;\">\n",
       "      <th></th>\n",
       "      <th>FIPS</th>\n",
       "      <th>State</th>\n",
       "      <th>County</th>\n",
       "      <th>farmers_markets_2018</th>\n",
       "      <th>farmers_markets_per_1000</th>\n",
       "      <th>fm_accepts_snap</th>\n",
       "      <th>pct_fm_accepting_snap</th>\n",
       "      <th>fm_accept_wic</th>\n",
       "      <th>pct_fm_accept_wic</th>\n",
       "      <th>fm_accept_wic_cash</th>\n",
       "      <th>pct_fm_accept_wic_cash</th>\n",
       "      <th>fm_accept_sfmnp</th>\n",
       "      <th>pct_fm_accept_sfmnp</th>\n",
       "      <th>fm_accept_credit</th>\n",
       "      <th>pct_fm_credit</th>\n",
       "      <th>fm_sell_frveg</th>\n",
       "      <th>pct_fm_sell_frveg</th>\n",
       "      <th>fm_sell_anipr</th>\n",
       "      <th>pct_fm_sell_anipr</th>\n",
       "    </tr>\n",
       "  </thead>\n",
       "  <tbody>\n",
       "    <tr>\n",
       "      <th>0</th>\n",
       "      <td>1001</td>\n",
       "      <td>AL</td>\n",
       "      <td>Autauga</td>\n",
       "      <td>1.0</td>\n",
       "      <td>0.017985</td>\n",
       "      <td>0.0</td>\n",
       "      <td>0.000000</td>\n",
       "      <td>0.0</td>\n",
       "      <td>0.0</td>\n",
       "      <td>0.0</td>\n",
       "      <td>0.0</td>\n",
       "      <td>0.0</td>\n",
       "      <td>0.0</td>\n",
       "      <td>0.0</td>\n",
       "      <td>0.000000</td>\n",
       "      <td>1.0</td>\n",
       "      <td>100.0</td>\n",
       "      <td>0.0</td>\n",
       "      <td>0.000000</td>\n",
       "    </tr>\n",
       "    <tr>\n",
       "      <th>1</th>\n",
       "      <td>1003</td>\n",
       "      <td>AL</td>\n",
       "      <td>Baldwin</td>\n",
       "      <td>4.0</td>\n",
       "      <td>0.018347</td>\n",
       "      <td>0.0</td>\n",
       "      <td>0.000000</td>\n",
       "      <td>0.0</td>\n",
       "      <td>0.0</td>\n",
       "      <td>0.0</td>\n",
       "      <td>0.0</td>\n",
       "      <td>4.0</td>\n",
       "      <td>100.0</td>\n",
       "      <td>2.0</td>\n",
       "      <td>50.000000</td>\n",
       "      <td>3.0</td>\n",
       "      <td>75.0</td>\n",
       "      <td>4.0</td>\n",
       "      <td>100.000000</td>\n",
       "    </tr>\n",
       "    <tr>\n",
       "      <th>2</th>\n",
       "      <td>1005</td>\n",
       "      <td>AL</td>\n",
       "      <td>Barbour</td>\n",
       "      <td>4.0</td>\n",
       "      <td>0.160765</td>\n",
       "      <td>2.0</td>\n",
       "      <td>50.000000</td>\n",
       "      <td>0.0</td>\n",
       "      <td>0.0</td>\n",
       "      <td>0.0</td>\n",
       "      <td>0.0</td>\n",
       "      <td>2.0</td>\n",
       "      <td>50.0</td>\n",
       "      <td>2.0</td>\n",
       "      <td>50.000000</td>\n",
       "      <td>2.0</td>\n",
       "      <td>50.0</td>\n",
       "      <td>0.0</td>\n",
       "      <td>0.000000</td>\n",
       "    </tr>\n",
       "    <tr>\n",
       "      <th>3</th>\n",
       "      <td>1007</td>\n",
       "      <td>AL</td>\n",
       "      <td>Bibb</td>\n",
       "      <td>1.0</td>\n",
       "      <td>0.044643</td>\n",
       "      <td>0.0</td>\n",
       "      <td>0.000000</td>\n",
       "      <td>0.0</td>\n",
       "      <td>0.0</td>\n",
       "      <td>0.0</td>\n",
       "      <td>0.0</td>\n",
       "      <td>0.0</td>\n",
       "      <td>0.0</td>\n",
       "      <td>0.0</td>\n",
       "      <td>0.000000</td>\n",
       "      <td>0.0</td>\n",
       "      <td>0.0</td>\n",
       "      <td>0.0</td>\n",
       "      <td>0.000000</td>\n",
       "    </tr>\n",
       "    <tr>\n",
       "      <th>4</th>\n",
       "      <td>1009</td>\n",
       "      <td>AL</td>\n",
       "      <td>Blount</td>\n",
       "      <td>1.0</td>\n",
       "      <td>0.017289</td>\n",
       "      <td>0.0</td>\n",
       "      <td>0.000000</td>\n",
       "      <td>1.0</td>\n",
       "      <td>100.0</td>\n",
       "      <td>0.0</td>\n",
       "      <td>0.0</td>\n",
       "      <td>1.0</td>\n",
       "      <td>100.0</td>\n",
       "      <td>0.0</td>\n",
       "      <td>0.000000</td>\n",
       "      <td>1.0</td>\n",
       "      <td>100.0</td>\n",
       "      <td>1.0</td>\n",
       "      <td>100.000000</td>\n",
       "    </tr>\n",
       "    <tr>\n",
       "      <th>...</th>\n",
       "      <td>...</td>\n",
       "      <td>...</td>\n",
       "      <td>...</td>\n",
       "      <td>...</td>\n",
       "      <td>...</td>\n",
       "      <td>...</td>\n",
       "      <td>...</td>\n",
       "      <td>...</td>\n",
       "      <td>...</td>\n",
       "      <td>...</td>\n",
       "      <td>...</td>\n",
       "      <td>...</td>\n",
       "      <td>...</td>\n",
       "      <td>...</td>\n",
       "      <td>...</td>\n",
       "      <td>...</td>\n",
       "      <td>...</td>\n",
       "      <td>...</td>\n",
       "      <td>...</td>\n",
       "    </tr>\n",
       "    <tr>\n",
       "      <th>3138</th>\n",
       "      <td>56037</td>\n",
       "      <td>WY</td>\n",
       "      <td>Sweetwater</td>\n",
       "      <td>2.0</td>\n",
       "      <td>0.046457</td>\n",
       "      <td>0.0</td>\n",
       "      <td>0.000000</td>\n",
       "      <td>0.0</td>\n",
       "      <td>0.0</td>\n",
       "      <td>0.0</td>\n",
       "      <td>0.0</td>\n",
       "      <td>0.0</td>\n",
       "      <td>0.0</td>\n",
       "      <td>0.0</td>\n",
       "      <td>0.000000</td>\n",
       "      <td>0.0</td>\n",
       "      <td>0.0</td>\n",
       "      <td>0.0</td>\n",
       "      <td>0.000000</td>\n",
       "    </tr>\n",
       "    <tr>\n",
       "      <th>3139</th>\n",
       "      <td>56039</td>\n",
       "      <td>WY</td>\n",
       "      <td>Teton</td>\n",
       "      <td>3.0</td>\n",
       "      <td>0.129977</td>\n",
       "      <td>1.0</td>\n",
       "      <td>33.333332</td>\n",
       "      <td>0.0</td>\n",
       "      <td>0.0</td>\n",
       "      <td>0.0</td>\n",
       "      <td>0.0</td>\n",
       "      <td>0.0</td>\n",
       "      <td>0.0</td>\n",
       "      <td>2.0</td>\n",
       "      <td>66.666664</td>\n",
       "      <td>3.0</td>\n",
       "      <td>100.0</td>\n",
       "      <td>2.0</td>\n",
       "      <td>66.666664</td>\n",
       "    </tr>\n",
       "    <tr>\n",
       "      <th>3140</th>\n",
       "      <td>56041</td>\n",
       "      <td>WY</td>\n",
       "      <td>Uinta</td>\n",
       "      <td>2.0</td>\n",
       "      <td>0.098527</td>\n",
       "      <td>0.0</td>\n",
       "      <td>0.000000</td>\n",
       "      <td>0.0</td>\n",
       "      <td>0.0</td>\n",
       "      <td>0.0</td>\n",
       "      <td>0.0</td>\n",
       "      <td>0.0</td>\n",
       "      <td>0.0</td>\n",
       "      <td>2.0</td>\n",
       "      <td>100.000000</td>\n",
       "      <td>0.0</td>\n",
       "      <td>0.0</td>\n",
       "      <td>0.0</td>\n",
       "      <td>0.000000</td>\n",
       "    </tr>\n",
       "    <tr>\n",
       "      <th>3141</th>\n",
       "      <td>56043</td>\n",
       "      <td>WY</td>\n",
       "      <td>Washakie</td>\n",
       "      <td>2.0</td>\n",
       "      <td>0.253646</td>\n",
       "      <td>0.0</td>\n",
       "      <td>0.000000</td>\n",
       "      <td>0.0</td>\n",
       "      <td>0.0</td>\n",
       "      <td>0.0</td>\n",
       "      <td>0.0</td>\n",
       "      <td>0.0</td>\n",
       "      <td>0.0</td>\n",
       "      <td>1.0</td>\n",
       "      <td>50.000000</td>\n",
       "      <td>2.0</td>\n",
       "      <td>100.0</td>\n",
       "      <td>2.0</td>\n",
       "      <td>100.000000</td>\n",
       "    </tr>\n",
       "    <tr>\n",
       "      <th>3142</th>\n",
       "      <td>56045</td>\n",
       "      <td>WY</td>\n",
       "      <td>Weston</td>\n",
       "      <td>2.0</td>\n",
       "      <td>0.287068</td>\n",
       "      <td>0.0</td>\n",
       "      <td>0.000000</td>\n",
       "      <td>0.0</td>\n",
       "      <td>0.0</td>\n",
       "      <td>0.0</td>\n",
       "      <td>0.0</td>\n",
       "      <td>0.0</td>\n",
       "      <td>0.0</td>\n",
       "      <td>0.0</td>\n",
       "      <td>0.000000</td>\n",
       "      <td>0.0</td>\n",
       "      <td>0.0</td>\n",
       "      <td>0.0</td>\n",
       "      <td>0.000000</td>\n",
       "    </tr>\n",
       "  </tbody>\n",
       "</table>\n",
       "<p>3143 rows × 19 columns</p>\n",
       "</div>"
      ],
      "text/plain": [
       "       FIPS State      County  farmers_markets_2018  farmers_markets_per_1000  \\\n",
       "0      1001    AL     Autauga                   1.0                  0.017985   \n",
       "1      1003    AL     Baldwin                   4.0                  0.018347   \n",
       "2      1005    AL     Barbour                   4.0                  0.160765   \n",
       "3      1007    AL        Bibb                   1.0                  0.044643   \n",
       "4      1009    AL      Blount                   1.0                  0.017289   \n",
       "...     ...   ...         ...                   ...                       ...   \n",
       "3138  56037    WY  Sweetwater                   2.0                  0.046457   \n",
       "3139  56039    WY       Teton                   3.0                  0.129977   \n",
       "3140  56041    WY       Uinta                   2.0                  0.098527   \n",
       "3141  56043    WY    Washakie                   2.0                  0.253646   \n",
       "3142  56045    WY      Weston                   2.0                  0.287068   \n",
       "\n",
       "      fm_accepts_snap  pct_fm_accepting_snap  fm_accept_wic  \\\n",
       "0                 0.0               0.000000            0.0   \n",
       "1                 0.0               0.000000            0.0   \n",
       "2                 2.0              50.000000            0.0   \n",
       "3                 0.0               0.000000            0.0   \n",
       "4                 0.0               0.000000            1.0   \n",
       "...               ...                    ...            ...   \n",
       "3138              0.0               0.000000            0.0   \n",
       "3139              1.0              33.333332            0.0   \n",
       "3140              0.0               0.000000            0.0   \n",
       "3141              0.0               0.000000            0.0   \n",
       "3142              0.0               0.000000            0.0   \n",
       "\n",
       "      pct_fm_accept_wic  fm_accept_wic_cash  pct_fm_accept_wic_cash  \\\n",
       "0                   0.0                 0.0                     0.0   \n",
       "1                   0.0                 0.0                     0.0   \n",
       "2                   0.0                 0.0                     0.0   \n",
       "3                   0.0                 0.0                     0.0   \n",
       "4                 100.0                 0.0                     0.0   \n",
       "...                 ...                 ...                     ...   \n",
       "3138                0.0                 0.0                     0.0   \n",
       "3139                0.0                 0.0                     0.0   \n",
       "3140                0.0                 0.0                     0.0   \n",
       "3141                0.0                 0.0                     0.0   \n",
       "3142                0.0                 0.0                     0.0   \n",
       "\n",
       "      fm_accept_sfmnp  pct_fm_accept_sfmnp  fm_accept_credit  pct_fm_credit  \\\n",
       "0                 0.0                  0.0               0.0       0.000000   \n",
       "1                 4.0                100.0               2.0      50.000000   \n",
       "2                 2.0                 50.0               2.0      50.000000   \n",
       "3                 0.0                  0.0               0.0       0.000000   \n",
       "4                 1.0                100.0               0.0       0.000000   \n",
       "...               ...                  ...               ...            ...   \n",
       "3138              0.0                  0.0               0.0       0.000000   \n",
       "3139              0.0                  0.0               2.0      66.666664   \n",
       "3140              0.0                  0.0               2.0     100.000000   \n",
       "3141              0.0                  0.0               1.0      50.000000   \n",
       "3142              0.0                  0.0               0.0       0.000000   \n",
       "\n",
       "      fm_sell_frveg  pct_fm_sell_frveg  fm_sell_anipr  pct_fm_sell_anipr  \n",
       "0               1.0              100.0            0.0           0.000000  \n",
       "1               3.0               75.0            4.0         100.000000  \n",
       "2               2.0               50.0            0.0           0.000000  \n",
       "3               0.0                0.0            0.0           0.000000  \n",
       "4               1.0              100.0            1.0         100.000000  \n",
       "...             ...                ...            ...                ...  \n",
       "3138            0.0                0.0            0.0           0.000000  \n",
       "3139            3.0              100.0            2.0          66.666664  \n",
       "3140            0.0                0.0            0.0           0.000000  \n",
       "3141            2.0              100.0            2.0         100.000000  \n",
       "3142            0.0                0.0            0.0           0.000000  \n",
       "\n",
       "[3143 rows x 19 columns]"
      ]
     },
     "execution_count": 37,
     "metadata": {},
     "output_type": "execute_result"
    }
   ],
   "source": [
    "farm"
   ]
  },
  {
   "cell_type": "code",
   "execution_count": 38,
   "id": "dc6680c6",
   "metadata": {},
   "outputs": [],
   "source": [
    "farm.columns = ['fips','state', 'county', 'farmers_markets', 'farmers_markets_per_1000', 'fm_accepts_snap', 'pct_fm_accepting_snap', 'fm_accept_wic', 'pct_fm_accept_wic','fm_accept_wic_cash', 'pct_fm_accept_wic_cash', 'fm_accept_sfmnp', 'pct_fm_accept_sfmnp', 'fm_accept_credit', 'pct_fm_credit', 'fm_sell_frveg', 'pct_fm_sell_frveg', 'fm_sell_anipr', 'pct_fm_sell_anipr']"
   ]
  },
  {
   "cell_type": "code",
   "execution_count": 39,
   "id": "34751987",
   "metadata": {},
   "outputs": [],
   "source": [
    "farm[\"region\"] = farm[\"state\"].map(states)"
   ]
  },
  {
   "cell_type": "code",
   "execution_count": 40,
   "id": "4768a693",
   "metadata": {},
   "outputs": [],
   "source": [
    "del farm[\"fm_accept_sfmnp\"]\n",
    "del farm[\"pct_fm_accept_sfmnp\"]\n",
    "del farm[\"fm_accept_wic_cash\"]\n",
    "del farm[\"pct_fm_accept_wic_cash\"]\n",
    "del farm[\"fm_sell_anipr\"]\n",
    "del farm[\"pct_fm_sell_anipr\"]"
   ]
  },
  {
   "cell_type": "code",
   "execution_count": 41,
   "id": "a4a5e3b4",
   "metadata": {
    "scrolled": true
   },
   "outputs": [
    {
     "data": {
      "text/plain": [
       "fips                          int64\n",
       "state                        object\n",
       "county                       object\n",
       "farmers_markets             float64\n",
       "farmers_markets_per_1000    float64\n",
       "fm_accepts_snap             float64\n",
       "pct_fm_accepting_snap       float64\n",
       "fm_accept_wic               float64\n",
       "pct_fm_accept_wic           float64\n",
       "fm_accept_credit            float64\n",
       "pct_fm_credit               float64\n",
       "fm_sell_frveg               float64\n",
       "pct_fm_sell_frveg           float64\n",
       "region                       object\n",
       "dtype: object"
      ]
     },
     "execution_count": 41,
     "metadata": {},
     "output_type": "execute_result"
    }
   ],
   "source": [
    "farm.dtypes"
   ]
  },
  {
   "cell_type": "code",
   "execution_count": 42,
   "id": "22c92e91",
   "metadata": {},
   "outputs": [],
   "source": [
    "farm[\"fips\"] = farm[\"fips\"].astype(\"category\")"
   ]
  },
  {
   "cell_type": "code",
   "execution_count": 43,
   "id": "a9537397",
   "metadata": {},
   "outputs": [
    {
     "data": {
      "text/html": [
       "<div>\n",
       "<style scoped>\n",
       "    .dataframe tbody tr th:only-of-type {\n",
       "        vertical-align: middle;\n",
       "    }\n",
       "\n",
       "    .dataframe tbody tr th {\n",
       "        vertical-align: top;\n",
       "    }\n",
       "\n",
       "    .dataframe thead th {\n",
       "        text-align: right;\n",
       "    }\n",
       "</style>\n",
       "<table border=\"1\" class=\"dataframe\">\n",
       "  <thead>\n",
       "    <tr style=\"text-align: right;\">\n",
       "      <th></th>\n",
       "      <th>farmers_markets</th>\n",
       "      <th>farmers_markets_per_1000</th>\n",
       "      <th>fm_accepts_snap</th>\n",
       "      <th>pct_fm_accepting_snap</th>\n",
       "      <th>fm_accept_wic</th>\n",
       "      <th>pct_fm_accept_wic</th>\n",
       "      <th>fm_accept_credit</th>\n",
       "      <th>pct_fm_credit</th>\n",
       "      <th>fm_sell_frveg</th>\n",
       "      <th>pct_fm_sell_frveg</th>\n",
       "    </tr>\n",
       "  </thead>\n",
       "  <tbody>\n",
       "    <tr>\n",
       "      <th>count</th>\n",
       "      <td>3142.000000</td>\n",
       "      <td>3140.000000</td>\n",
       "      <td>3142.000000</td>\n",
       "      <td>3142.000000</td>\n",
       "      <td>3142.000000</td>\n",
       "      <td>3142.000000</td>\n",
       "      <td>3142.000000</td>\n",
       "      <td>3142.000000</td>\n",
       "      <td>3142.000000</td>\n",
       "      <td>3142.000000</td>\n",
       "    </tr>\n",
       "    <tr>\n",
       "      <th>mean</th>\n",
       "      <td>2.756525</td>\n",
       "      <td>0.059385</td>\n",
       "      <td>0.914386</td>\n",
       "      <td>18.845784</td>\n",
       "      <td>0.852323</td>\n",
       "      <td>16.057862</td>\n",
       "      <td>1.604710</td>\n",
       "      <td>38.037682</td>\n",
       "      <td>1.831636</td>\n",
       "      <td>46.771902</td>\n",
       "    </tr>\n",
       "    <tr>\n",
       "      <th>std</th>\n",
       "      <td>5.819495</td>\n",
       "      <td>0.100356</td>\n",
       "      <td>2.917630</td>\n",
       "      <td>32.317212</td>\n",
       "      <td>2.946811</td>\n",
       "      <td>30.714804</td>\n",
       "      <td>3.884805</td>\n",
       "      <td>41.835732</td>\n",
       "      <td>4.141478</td>\n",
       "      <td>44.063487</td>\n",
       "    </tr>\n",
       "    <tr>\n",
       "      <th>min</th>\n",
       "      <td>0.000000</td>\n",
       "      <td>0.000000</td>\n",
       "      <td>0.000000</td>\n",
       "      <td>0.000000</td>\n",
       "      <td>0.000000</td>\n",
       "      <td>0.000000</td>\n",
       "      <td>0.000000</td>\n",
       "      <td>0.000000</td>\n",
       "      <td>0.000000</td>\n",
       "      <td>0.000000</td>\n",
       "    </tr>\n",
       "    <tr>\n",
       "      <th>25%</th>\n",
       "      <td>0.000000</td>\n",
       "      <td>0.000000</td>\n",
       "      <td>0.000000</td>\n",
       "      <td>0.000000</td>\n",
       "      <td>0.000000</td>\n",
       "      <td>0.000000</td>\n",
       "      <td>0.000000</td>\n",
       "      <td>0.000000</td>\n",
       "      <td>0.000000</td>\n",
       "      <td>0.000000</td>\n",
       "    </tr>\n",
       "    <tr>\n",
       "      <th>50%</th>\n",
       "      <td>1.000000</td>\n",
       "      <td>0.029985</td>\n",
       "      <td>0.000000</td>\n",
       "      <td>0.000000</td>\n",
       "      <td>0.000000</td>\n",
       "      <td>0.000000</td>\n",
       "      <td>1.000000</td>\n",
       "      <td>20.000000</td>\n",
       "      <td>1.000000</td>\n",
       "      <td>50.000000</td>\n",
       "    </tr>\n",
       "    <tr>\n",
       "      <th>75%</th>\n",
       "      <td>3.000000</td>\n",
       "      <td>0.071691</td>\n",
       "      <td>1.000000</td>\n",
       "      <td>33.333332</td>\n",
       "      <td>1.000000</td>\n",
       "      <td>17.401960</td>\n",
       "      <td>2.000000</td>\n",
       "      <td>80.000000</td>\n",
       "      <td>2.000000</td>\n",
       "      <td>100.000000</td>\n",
       "    </tr>\n",
       "    <tr>\n",
       "      <th>max</th>\n",
       "      <td>124.000000</td>\n",
       "      <td>1.472754</td>\n",
       "      <td>53.000000</td>\n",
       "      <td>100.000000</td>\n",
       "      <td>49.000000</td>\n",
       "      <td>100.000000</td>\n",
       "      <td>69.000000</td>\n",
       "      <td>100.000000</td>\n",
       "      <td>69.000000</td>\n",
       "      <td>100.000000</td>\n",
       "    </tr>\n",
       "  </tbody>\n",
       "</table>\n",
       "</div>"
      ],
      "text/plain": [
       "       farmers_markets  farmers_markets_per_1000  fm_accepts_snap  \\\n",
       "count      3142.000000               3140.000000      3142.000000   \n",
       "mean          2.756525                  0.059385         0.914386   \n",
       "std           5.819495                  0.100356         2.917630   \n",
       "min           0.000000                  0.000000         0.000000   \n",
       "25%           0.000000                  0.000000         0.000000   \n",
       "50%           1.000000                  0.029985         0.000000   \n",
       "75%           3.000000                  0.071691         1.000000   \n",
       "max         124.000000                  1.472754        53.000000   \n",
       "\n",
       "       pct_fm_accepting_snap  fm_accept_wic  pct_fm_accept_wic  \\\n",
       "count            3142.000000    3142.000000        3142.000000   \n",
       "mean               18.845784       0.852323          16.057862   \n",
       "std                32.317212       2.946811          30.714804   \n",
       "min                 0.000000       0.000000           0.000000   \n",
       "25%                 0.000000       0.000000           0.000000   \n",
       "50%                 0.000000       0.000000           0.000000   \n",
       "75%                33.333332       1.000000          17.401960   \n",
       "max               100.000000      49.000000         100.000000   \n",
       "\n",
       "       fm_accept_credit  pct_fm_credit  fm_sell_frveg  pct_fm_sell_frveg  \n",
       "count       3142.000000    3142.000000    3142.000000        3142.000000  \n",
       "mean           1.604710      38.037682       1.831636          46.771902  \n",
       "std            3.884805      41.835732       4.141478          44.063487  \n",
       "min            0.000000       0.000000       0.000000           0.000000  \n",
       "25%            0.000000       0.000000       0.000000           0.000000  \n",
       "50%            1.000000      20.000000       1.000000          50.000000  \n",
       "75%            2.000000      80.000000       2.000000         100.000000  \n",
       "max           69.000000     100.000000      69.000000         100.000000  "
      ]
     },
     "execution_count": 43,
     "metadata": {},
     "output_type": "execute_result"
    }
   ],
   "source": [
    "farm.describe()"
   ]
  },
  {
   "cell_type": "code",
   "execution_count": 44,
   "id": "0224bcdf",
   "metadata": {},
   "outputs": [
    {
     "name": "stdout",
     "output_type": "stream",
     "text": [
      "\n",
      "any of the mention value exists in Dataframe\n"
     ]
    }
   ],
   "source": [
    "# Checking to see if theres a -9999 or a blank cell\n",
    "\n",
    "res = farm.isin([-9999, np.nan]).any().any()\n",
    "  \n",
    "if res:\n",
    "    print(\"\\nany of the mention value exists in Dataframe\")\n",
    "      \n",
    "else:\n",
    "    print(\"\\nNone of thses values exists in Dataframe\")"
   ]
  },
  {
   "cell_type": "code",
   "execution_count": 45,
   "id": "6abe63da",
   "metadata": {},
   "outputs": [
    {
     "data": {
      "text/plain": [
       "12"
      ]
     },
     "execution_count": 45,
     "metadata": {},
     "output_type": "execute_result"
    }
   ],
   "source": [
    "# Checking for NaN values. They have 'nan' in place of NaN\n",
    "\n",
    "farm.isnull().values.any()\n",
    "farm.isnull().sum().sum()"
   ]
  },
  {
   "cell_type": "code",
   "execution_count": 46,
   "id": "82e29a2e",
   "metadata": {},
   "outputs": [
    {
     "data": {
      "text/plain": [
       "array([  1.,   4.,   2.,   0.,   3.,  17.,   7.,   5.,   8.,  10.,   6.,\n",
       "        nan,  39.,  24.,  11.,  34.,  25.,  15.,  14.,  16., 124.,  12.,\n",
       "         9.,  23.,  19.,  22.,  27.,  46.,  28.,  21.,  13.,  18.,  30.,\n",
       "        35.,  58.,  31.,  43., 113.,  20.,  60.,  29.,  42.,  44.,  50.,\n",
       "        41.,  40.])"
      ]
     },
     "execution_count": 46,
     "metadata": {},
     "output_type": "execute_result"
    }
   ],
   "source": [
    "farm['farmers_markets'].unique()"
   ]
  },
  {
   "cell_type": "code",
   "execution_count": 47,
   "id": "f8a71eeb",
   "metadata": {
    "scrolled": true
   },
   "outputs": [
    {
     "name": "stdout",
     "output_type": "stream",
     "text": [
      "<class 'pandas.core.frame.DataFrame'>\n",
      "Int64Index: 3143 entries, 0 to 3142\n",
      "Data columns (total 14 columns):\n",
      " #   Column                    Non-Null Count  Dtype   \n",
      "---  ------                    --------------  -----   \n",
      " 0   fips                      3143 non-null   category\n",
      " 1   state                     3143 non-null   object  \n",
      " 2   county                    3143 non-null   object  \n",
      " 3   farmers_markets           3142 non-null   float64 \n",
      " 4   farmers_markets_per_1000  3140 non-null   float64 \n",
      " 5   fm_accepts_snap           3142 non-null   float64 \n",
      " 6   pct_fm_accepting_snap     3142 non-null   float64 \n",
      " 7   fm_accept_wic             3142 non-null   float64 \n",
      " 8   pct_fm_accept_wic         3142 non-null   float64 \n",
      " 9   fm_accept_credit          3142 non-null   float64 \n",
      " 10  pct_fm_credit             3142 non-null   float64 \n",
      " 11  fm_sell_frveg             3142 non-null   float64 \n",
      " 12  pct_fm_sell_frveg         3142 non-null   float64 \n",
      " 13  region                    3143 non-null   object  \n",
      "dtypes: category(1), float64(10), object(3)\n",
      "memory usage: 439.0+ KB\n"
     ]
    }
   ],
   "source": [
    "farm.info()"
   ]
  },
  {
   "cell_type": "code",
   "execution_count": 48,
   "id": "1389e354",
   "metadata": {},
   "outputs": [],
   "source": [
    "farm_avg = farm.groupby(\"region\").mean()"
   ]
  },
  {
   "cell_type": "code",
   "execution_count": 49,
   "id": "018e8ba8",
   "metadata": {
    "scrolled": true
   },
   "outputs": [
    {
     "data": {
      "text/html": [
       "<div>\n",
       "<style scoped>\n",
       "    .dataframe tbody tr th:only-of-type {\n",
       "        vertical-align: middle;\n",
       "    }\n",
       "\n",
       "    .dataframe tbody tr th {\n",
       "        vertical-align: top;\n",
       "    }\n",
       "\n",
       "    .dataframe thead th {\n",
       "        text-align: right;\n",
       "    }\n",
       "</style>\n",
       "<table border=\"1\" class=\"dataframe\">\n",
       "  <thead>\n",
       "    <tr style=\"text-align: right;\">\n",
       "      <th></th>\n",
       "      <th>farmers_markets</th>\n",
       "      <th>farmers_markets_per_1000</th>\n",
       "      <th>fm_accepts_snap</th>\n",
       "      <th>pct_fm_accepting_snap</th>\n",
       "      <th>fm_accept_wic</th>\n",
       "      <th>pct_fm_accept_wic</th>\n",
       "      <th>fm_accept_credit</th>\n",
       "      <th>pct_fm_credit</th>\n",
       "      <th>fm_sell_frveg</th>\n",
       "      <th>pct_fm_sell_frveg</th>\n",
       "    </tr>\n",
       "    <tr>\n",
       "      <th>region</th>\n",
       "      <th></th>\n",
       "      <th></th>\n",
       "      <th></th>\n",
       "      <th></th>\n",
       "      <th></th>\n",
       "      <th></th>\n",
       "      <th></th>\n",
       "      <th></th>\n",
       "      <th></th>\n",
       "      <th></th>\n",
       "    </tr>\n",
       "  </thead>\n",
       "  <tbody>\n",
       "    <tr>\n",
       "      <th>M</th>\n",
       "      <td>2.369738</td>\n",
       "      <td>0.077850</td>\n",
       "      <td>0.601820</td>\n",
       "      <td>16.577481</td>\n",
       "      <td>0.536974</td>\n",
       "      <td>15.734430</td>\n",
       "      <td>1.255973</td>\n",
       "      <td>36.894711</td>\n",
       "      <td>1.535836</td>\n",
       "      <td>48.687942</td>\n",
       "    </tr>\n",
       "    <tr>\n",
       "      <th>N</th>\n",
       "      <td>8.934694</td>\n",
       "      <td>0.063494</td>\n",
       "      <td>3.448980</td>\n",
       "      <td>29.797785</td>\n",
       "      <td>4.204082</td>\n",
       "      <td>40.295392</td>\n",
       "      <td>5.420408</td>\n",
       "      <td>54.362060</td>\n",
       "      <td>6.257143</td>\n",
       "      <td>63.356304</td>\n",
       "    </tr>\n",
       "    <tr>\n",
       "      <th>O</th>\n",
       "      <td>4.121212</td>\n",
       "      <td>0.079126</td>\n",
       "      <td>1.484848</td>\n",
       "      <td>10.335647</td>\n",
       "      <td>0.454545</td>\n",
       "      <td>12.857143</td>\n",
       "      <td>2.333333</td>\n",
       "      <td>25.011794</td>\n",
       "      <td>2.272727</td>\n",
       "      <td>25.664501</td>\n",
       "    </tr>\n",
       "    <tr>\n",
       "      <th>S</th>\n",
       "      <td>1.525448</td>\n",
       "      <td>0.033647</td>\n",
       "      <td>0.399283</td>\n",
       "      <td>15.685536</td>\n",
       "      <td>0.210753</td>\n",
       "      <td>8.771513</td>\n",
       "      <td>0.902509</td>\n",
       "      <td>34.270623</td>\n",
       "      <td>1.005018</td>\n",
       "      <td>41.411199</td>\n",
       "    </tr>\n",
       "    <tr>\n",
       "      <th>W</th>\n",
       "      <td>3.601695</td>\n",
       "      <td>0.089907</td>\n",
       "      <td>1.513559</td>\n",
       "      <td>25.625408</td>\n",
       "      <td>1.469492</td>\n",
       "      <td>23.881897</td>\n",
       "      <td>2.159322</td>\n",
       "      <td>42.597173</td>\n",
       "      <td>2.364407</td>\n",
       "      <td>50.886053</td>\n",
       "    </tr>\n",
       "  </tbody>\n",
       "</table>\n",
       "</div>"
      ],
      "text/plain": [
       "        farmers_markets  farmers_markets_per_1000  fm_accepts_snap  \\\n",
       "region                                                               \n",
       "M              2.369738                  0.077850         0.601820   \n",
       "N              8.934694                  0.063494         3.448980   \n",
       "O              4.121212                  0.079126         1.484848   \n",
       "S              1.525448                  0.033647         0.399283   \n",
       "W              3.601695                  0.089907         1.513559   \n",
       "\n",
       "        pct_fm_accepting_snap  fm_accept_wic  pct_fm_accept_wic  \\\n",
       "region                                                            \n",
       "M                   16.577481       0.536974          15.734430   \n",
       "N                   29.797785       4.204082          40.295392   \n",
       "O                   10.335647       0.454545          12.857143   \n",
       "S                   15.685536       0.210753           8.771513   \n",
       "W                   25.625408       1.469492          23.881897   \n",
       "\n",
       "        fm_accept_credit  pct_fm_credit  fm_sell_frveg  pct_fm_sell_frveg  \n",
       "region                                                                     \n",
       "M               1.255973      36.894711       1.535836          48.687942  \n",
       "N               5.420408      54.362060       6.257143          63.356304  \n",
       "O               2.333333      25.011794       2.272727          25.664501  \n",
       "S               0.902509      34.270623       1.005018          41.411199  \n",
       "W               2.159322      42.597173       2.364407          50.886053  "
      ]
     },
     "execution_count": 49,
     "metadata": {},
     "output_type": "execute_result"
    }
   ],
   "source": [
    "farm_avg"
   ]
  },
  {
   "cell_type": "code",
   "execution_count": 50,
   "id": "222a3199",
   "metadata": {},
   "outputs": [
    {
     "data": {
      "image/png": "[encoded data removed]",
      "text/plain": [
       "<Figure size 432x288 with 1 Axes>"
      ]
     },
     "metadata": {
      "needs_background": "light"
     },
     "output_type": "display_data"
    }
   ],
   "source": [
    "fm_boxplot = sns.boxplot(x=\"region\", y=\"farmers_markets\", showfliers= True, data= farm)"
   ]
  },
  {
   "cell_type": "code",
   "execution_count": 51,
   "id": "dacbd870",
   "metadata": {
    "scrolled": true
   },
   "outputs": [
    {
     "data": {
      "text/plain": [
       "Text(0, 0.5, 'Number per 1000 people')"
      ]
     },
     "execution_count": 51,
     "metadata": {},
     "output_type": "execute_result"
    },
    {
     "data": {
      "image/png": "[encoded data removed]",
      "text/plain": [
       "<Figure size 432x288 with 1 Axes>"
      ]
     },
     "metadata": {
      "needs_background": "light"
     },
     "output_type": "display_data"
    }
   ],
   "source": [
    "# creating boxplot\n",
    "farms_per_plot = farm_avg[\"farmers_markets_per_1000\"].plot.bar()\n",
    "\n",
    "#labeling\n",
    "farms_per_plot.set_title(\"Number of Farmer's Markets per 1000 people per region\")\n",
    "farms_per_plot.set_xlabel(\"Region\")\n",
    "farms_per_plot.set_ylabel(\"Number per 1000 people\")"
   ]
  },
  {
   "cell_type": "code",
   "execution_count": 52,
   "id": "c2ca8b3c",
   "metadata": {},
   "outputs": [
    {
     "data": {
      "text/plain": [
       "Text(0, 0.5, 'Number selling fruits and vegetables')"
      ]
     },
     "execution_count": 52,
     "metadata": {},
     "output_type": "execute_result"
    },
    {
     "data": {
      "image/png": "[encoded data removed]",
      "text/plain": [
       "<Figure size 432x288 with 1 Axes>"
      ]
     },
     "metadata": {
      "needs_background": "light"
     },
     "output_type": "display_data"
    }
   ],
   "source": [
    "# creating boxplot\n",
    "farms_per_plot = farm_avg[\"pct_fm_sell_frveg\"].plot.bar()\n",
    "\n",
    "#labeling\n",
    "farms_per_plot.set_title(\"Number of Farmer's Markets selling fruits and vegetables people per region\")\n",
    "farms_per_plot.set_xlabel(\"Region\")\n",
    "farms_per_plot.set_ylabel(\"Number selling fruits and vegetables\")"
   ]
  },
  {
   "cell_type": "code",
   "execution_count": 53,
   "id": "400fa8ed",
   "metadata": {},
   "outputs": [
    {
     "data": {
      "text/plain": [
       "Text(0, 0.5, 'Percentage accepting SNAP')"
      ]
     },
     "execution_count": 53,
     "metadata": {},
     "output_type": "execute_result"
    },
    {
     "data": {
      "image/png": "[encoded data removed]",
      "text/plain": [
       "<Figure size 432x288 with 1 Axes>"
      ]
     },
     "metadata": {
      "needs_background": "light"
     },
     "output_type": "display_data"
    }
   ],
   "source": [
    "# creating boxplot\n",
    "farms_per_plot = farm_avg[\"pct_fm_accepting_snap\"].plot.bar()\n",
    "\n",
    "#labeling\n",
    "farms_per_plot.set_title(\"Percentage of Farmers Markets accepting SNAP per region\")\n",
    "farms_per_plot.set_xlabel(\"Region\")\n",
    "farms_per_plot.set_ylabel(\"Percentage accepting SNAP\")"
   ]
  },
  {
   "cell_type": "code",
   "execution_count": 54,
   "id": "f297ae02",
   "metadata": {},
   "outputs": [
    {
     "data": {
      "text/plain": [
       "Text(0, 0.5, 'Percentage accepting WIC')"
      ]
     },
     "execution_count": 54,
     "metadata": {},
     "output_type": "execute_result"
    },
    {
     "data": {
      "image/png": "[encoded data removed]",
      "text/plain": [
       "<Figure size 432x288 with 1 Axes>"
      ]
     },
     "metadata": {
      "needs_background": "light"
     },
     "output_type": "display_data"
    }
   ],
   "source": [
    "# creating boxplot\n",
    "farms_per_plot = farm_avg[\"pct_fm_accept_wic\"].plot.bar()\n",
    "\n",
    "#labeling\n",
    "farms_per_plot.set_title(\"Percentage of Farmers Markets accepting WIC per region\")\n",
    "farms_per_plot.set_xlabel(\"Region\")\n",
    "farms_per_plot.set_ylabel(\"Percentage accepting WIC\")"
   ]
  },
  {
   "cell_type": "code",
   "execution_count": 55,
   "id": "f89fdc9a",
   "metadata": {
    "scrolled": false
   },
   "outputs": [
    {
     "data": {
      "text/plain": [
       "Text(0, 0.5, 'Percentage accepting credit cards')"
      ]
     },
     "execution_count": 55,
     "metadata": {},
     "output_type": "execute_result"
    },
    {
     "data": {
      "image/png": "[encoded data removed]",
      "text/plain": [
       "<Figure size 432x288 with 1 Axes>"
      ]
     },
     "metadata": {
      "needs_background": "light"
     },
     "output_type": "display_data"
    }
   ],
   "source": [
    "# creating boxplot\n",
    "farms_per_plot = farm_avg[\"pct_fm_credit\"].plot.bar()\n",
    "\n",
    "#labeling\n",
    "farms_per_plot.set_title(\"Percentage of Farmers Markets accepting credit cards per region\")\n",
    "farms_per_plot.set_xlabel(\"Region\")\n",
    "farms_per_plot.set_ylabel(\"Percentage accepting credit cards\")"
   ]
  },
  {
   "cell_type": "code",
   "execution_count": 56,
   "id": "6f80ed47",
   "metadata": {},
   "outputs": [],
   "source": [
    "farm.to_csv('Data/farmers_markets.csv', index=False, na_rep='NaN')"
   ]
  },
  {
   "cell_type": "markdown",
   "id": "0be8be55",
   "metadata": {},
   "source": [
    "### Joinging them and looking at both"
   ]
  },
  {
   "cell_type": "code",
   "execution_count": 57,
   "id": "85715652",
   "metadata": {},
   "outputs": [],
   "source": [
    "# outer_merged = pd.merge(precip_one_station, climate_temp, how=\"outer\", on=[\"STATION\", \"DATE\"])\n",
    "\n",
    "merged = pd.merge(farm, food_insecurity, how = \"left\", on = [\"fips\", \"region\", \"state\"])"
   ]
  },
  {
   "cell_type": "code",
   "execution_count": 58,
   "id": "efd59c17",
   "metadata": {},
   "outputs": [
    {
     "name": "stdout",
     "output_type": "stream",
     "text": [
      "<class 'pandas.core.frame.DataFrame'>\n",
      "Int64Index: 3143 entries, 0 to 3142\n",
      "Data columns (total 20 columns):\n",
      " #   Column                            Non-Null Count  Dtype  \n",
      "---  ------                            --------------  -----  \n",
      " 0   fips                              3143 non-null   int64  \n",
      " 1   state                             3143 non-null   object \n",
      " 2   county                            3143 non-null   object \n",
      " 3   farmers_markets                   3142 non-null   float64\n",
      " 4   farmers_markets_per_1000          3140 non-null   float64\n",
      " 5   fm_accepts_snap                   3142 non-null   float64\n",
      " 6   pct_fm_accepting_snap             3142 non-null   float64\n",
      " 7   fm_accept_wic                     3142 non-null   float64\n",
      " 8   pct_fm_accept_wic                 3142 non-null   float64\n",
      " 9   fm_accept_credit                  3142 non-null   float64\n",
      " 10  pct_fm_credit                     3142 non-null   float64\n",
      " 11  fm_sell_frveg                     3142 non-null   float64\n",
      " 12  pct_fm_sell_frveg                 3142 non-null   float64\n",
      " 13  region                            3143 non-null   object \n",
      " 14  fi_rate                           3140 non-null   float64\n",
      " 15  total_fi_people                   3140 non-null   float64\n",
      " 16  child_fi_rate                     3140 non-null   float64\n",
      " 17  num_fi_children                   3140 non-null   object \n",
      " 18  cost_per_meal                     3140 non-null   float64\n",
      " 19  est_annual_food_budget_shortfall  3140 non-null   float64\n",
      "dtypes: float64(15), int64(1), object(4)\n",
      "memory usage: 515.6+ KB\n"
     ]
    }
   ],
   "source": [
    "merged.info()"
   ]
  },
  {
   "cell_type": "code",
   "execution_count": 59,
   "id": "0076f7b2",
   "metadata": {
    "scrolled": true
   },
   "outputs": [
    {
     "data": {
      "text/html": [
       "<div>\n",
       "<style scoped>\n",
       "    .dataframe tbody tr th:only-of-type {\n",
       "        vertical-align: middle;\n",
       "    }\n",
       "\n",
       "    .dataframe tbody tr th {\n",
       "        vertical-align: top;\n",
       "    }\n",
       "\n",
       "    .dataframe thead th {\n",
       "        text-align: right;\n",
       "    }\n",
       "</style>\n",
       "<table border=\"1\" class=\"dataframe\">\n",
       "  <thead>\n",
       "    <tr style=\"text-align: right;\">\n",
       "      <th></th>\n",
       "      <th>fips</th>\n",
       "      <th>state</th>\n",
       "      <th>county</th>\n",
       "      <th>farmers_markets</th>\n",
       "      <th>farmers_markets_per_1000</th>\n",
       "      <th>fm_accepts_snap</th>\n",
       "      <th>pct_fm_accepting_snap</th>\n",
       "      <th>fm_accept_wic</th>\n",
       "      <th>pct_fm_accept_wic</th>\n",
       "      <th>fm_accept_credit</th>\n",
       "      <th>pct_fm_credit</th>\n",
       "      <th>fm_sell_frveg</th>\n",
       "      <th>pct_fm_sell_frveg</th>\n",
       "      <th>region</th>\n",
       "      <th>fi_rate</th>\n",
       "      <th>total_fi_people</th>\n",
       "      <th>child_fi_rate</th>\n",
       "      <th>num_fi_children</th>\n",
       "      <th>cost_per_meal</th>\n",
       "      <th>est_annual_food_budget_shortfall</th>\n",
       "    </tr>\n",
       "  </thead>\n",
       "  <tbody>\n",
       "    <tr>\n",
       "      <th>0</th>\n",
       "      <td>1001</td>\n",
       "      <td>AL</td>\n",
       "      <td>Autauga</td>\n",
       "      <td>1.0</td>\n",
       "      <td>0.017985</td>\n",
       "      <td>0.0</td>\n",
       "      <td>0.000000</td>\n",
       "      <td>0.0</td>\n",
       "      <td>0.0</td>\n",
       "      <td>0.0</td>\n",
       "      <td>0.000000</td>\n",
       "      <td>1.0</td>\n",
       "      <td>100.0</td>\n",
       "      <td>S</td>\n",
       "      <td>13.2</td>\n",
       "      <td>7270.0</td>\n",
       "      <td>19.8</td>\n",
       "      <td>2670</td>\n",
       "      <td>3.19</td>\n",
       "      <td>3957000.0</td>\n",
       "    </tr>\n",
       "    <tr>\n",
       "      <th>1</th>\n",
       "      <td>1003</td>\n",
       "      <td>AL</td>\n",
       "      <td>Baldwin</td>\n",
       "      <td>4.0</td>\n",
       "      <td>0.018347</td>\n",
       "      <td>0.0</td>\n",
       "      <td>0.000000</td>\n",
       "      <td>0.0</td>\n",
       "      <td>0.0</td>\n",
       "      <td>2.0</td>\n",
       "      <td>50.000000</td>\n",
       "      <td>3.0</td>\n",
       "      <td>75.0</td>\n",
       "      <td>S</td>\n",
       "      <td>11.6</td>\n",
       "      <td>23560.0</td>\n",
       "      <td>18.9</td>\n",
       "      <td>8480</td>\n",
       "      <td>3.57</td>\n",
       "      <td>14361000.0</td>\n",
       "    </tr>\n",
       "    <tr>\n",
       "      <th>2</th>\n",
       "      <td>1005</td>\n",
       "      <td>AL</td>\n",
       "      <td>Barbour</td>\n",
       "      <td>4.0</td>\n",
       "      <td>0.160765</td>\n",
       "      <td>2.0</td>\n",
       "      <td>50.000000</td>\n",
       "      <td>0.0</td>\n",
       "      <td>0.0</td>\n",
       "      <td>2.0</td>\n",
       "      <td>50.000000</td>\n",
       "      <td>2.0</td>\n",
       "      <td>50.0</td>\n",
       "      <td>S</td>\n",
       "      <td>22.0</td>\n",
       "      <td>5760.0</td>\n",
       "      <td>27.6</td>\n",
       "      <td>1520</td>\n",
       "      <td>3.09</td>\n",
       "      <td>3035000.0</td>\n",
       "    </tr>\n",
       "    <tr>\n",
       "      <th>3</th>\n",
       "      <td>1007</td>\n",
       "      <td>AL</td>\n",
       "      <td>Bibb</td>\n",
       "      <td>1.0</td>\n",
       "      <td>0.044643</td>\n",
       "      <td>0.0</td>\n",
       "      <td>0.000000</td>\n",
       "      <td>0.0</td>\n",
       "      <td>0.0</td>\n",
       "      <td>0.0</td>\n",
       "      <td>0.000000</td>\n",
       "      <td>0.0</td>\n",
       "      <td>0.0</td>\n",
       "      <td>S</td>\n",
       "      <td>14.3</td>\n",
       "      <td>3240.0</td>\n",
       "      <td>22.1</td>\n",
       "      <td>1050</td>\n",
       "      <td>3.05</td>\n",
       "      <td>1684000.0</td>\n",
       "    </tr>\n",
       "    <tr>\n",
       "      <th>4</th>\n",
       "      <td>1009</td>\n",
       "      <td>AL</td>\n",
       "      <td>Blount</td>\n",
       "      <td>1.0</td>\n",
       "      <td>0.017289</td>\n",
       "      <td>0.0</td>\n",
       "      <td>0.000000</td>\n",
       "      <td>1.0</td>\n",
       "      <td>100.0</td>\n",
       "      <td>0.0</td>\n",
       "      <td>0.000000</td>\n",
       "      <td>1.0</td>\n",
       "      <td>100.0</td>\n",
       "      <td>S</td>\n",
       "      <td>10.7</td>\n",
       "      <td>6140.0</td>\n",
       "      <td>21.2</td>\n",
       "      <td>2880</td>\n",
       "      <td>3.10</td>\n",
       "      <td>3249000.0</td>\n",
       "    </tr>\n",
       "    <tr>\n",
       "      <th>...</th>\n",
       "      <td>...</td>\n",
       "      <td>...</td>\n",
       "      <td>...</td>\n",
       "      <td>...</td>\n",
       "      <td>...</td>\n",
       "      <td>...</td>\n",
       "      <td>...</td>\n",
       "      <td>...</td>\n",
       "      <td>...</td>\n",
       "      <td>...</td>\n",
       "      <td>...</td>\n",
       "      <td>...</td>\n",
       "      <td>...</td>\n",
       "      <td>...</td>\n",
       "      <td>...</td>\n",
       "      <td>...</td>\n",
       "      <td>...</td>\n",
       "      <td>...</td>\n",
       "      <td>...</td>\n",
       "      <td>...</td>\n",
       "    </tr>\n",
       "    <tr>\n",
       "      <th>3138</th>\n",
       "      <td>56037</td>\n",
       "      <td>WY</td>\n",
       "      <td>Sweetwater</td>\n",
       "      <td>2.0</td>\n",
       "      <td>0.046457</td>\n",
       "      <td>0.0</td>\n",
       "      <td>0.000000</td>\n",
       "      <td>0.0</td>\n",
       "      <td>0.0</td>\n",
       "      <td>0.0</td>\n",
       "      <td>0.000000</td>\n",
       "      <td>0.0</td>\n",
       "      <td>0.0</td>\n",
       "      <td>W</td>\n",
       "      <td>10.7</td>\n",
       "      <td>4750.0</td>\n",
       "      <td>17.0</td>\n",
       "      <td>2030</td>\n",
       "      <td>3.14</td>\n",
       "      <td>2542000.0</td>\n",
       "    </tr>\n",
       "    <tr>\n",
       "      <th>3139</th>\n",
       "      <td>56039</td>\n",
       "      <td>WY</td>\n",
       "      <td>Teton</td>\n",
       "      <td>3.0</td>\n",
       "      <td>0.129977</td>\n",
       "      <td>1.0</td>\n",
       "      <td>33.333332</td>\n",
       "      <td>0.0</td>\n",
       "      <td>0.0</td>\n",
       "      <td>2.0</td>\n",
       "      <td>66.666664</td>\n",
       "      <td>3.0</td>\n",
       "      <td>100.0</td>\n",
       "      <td>W</td>\n",
       "      <td>9.7</td>\n",
       "      <td>2220.0</td>\n",
       "      <td>11.7</td>\n",
       "      <td>520</td>\n",
       "      <td>4.20</td>\n",
       "      <td>1592000.0</td>\n",
       "    </tr>\n",
       "    <tr>\n",
       "      <th>3140</th>\n",
       "      <td>56041</td>\n",
       "      <td>WY</td>\n",
       "      <td>Uinta</td>\n",
       "      <td>2.0</td>\n",
       "      <td>0.098527</td>\n",
       "      <td>0.0</td>\n",
       "      <td>0.000000</td>\n",
       "      <td>0.0</td>\n",
       "      <td>0.0</td>\n",
       "      <td>2.0</td>\n",
       "      <td>100.000000</td>\n",
       "      <td>0.0</td>\n",
       "      <td>0.0</td>\n",
       "      <td>W</td>\n",
       "      <td>12.8</td>\n",
       "      <td>2660.0</td>\n",
       "      <td>18.9</td>\n",
       "      <td>1160</td>\n",
       "      <td>2.95</td>\n",
       "      <td>1340000.0</td>\n",
       "    </tr>\n",
       "    <tr>\n",
       "      <th>3141</th>\n",
       "      <td>56043</td>\n",
       "      <td>WY</td>\n",
       "      <td>Washakie</td>\n",
       "      <td>2.0</td>\n",
       "      <td>0.253646</td>\n",
       "      <td>0.0</td>\n",
       "      <td>0.000000</td>\n",
       "      <td>0.0</td>\n",
       "      <td>0.0</td>\n",
       "      <td>1.0</td>\n",
       "      <td>50.000000</td>\n",
       "      <td>2.0</td>\n",
       "      <td>100.0</td>\n",
       "      <td>W</td>\n",
       "      <td>11.2</td>\n",
       "      <td>920.0</td>\n",
       "      <td>17.4</td>\n",
       "      <td>350</td>\n",
       "      <td>3.16</td>\n",
       "      <td>497000.0</td>\n",
       "    </tr>\n",
       "    <tr>\n",
       "      <th>3142</th>\n",
       "      <td>56045</td>\n",
       "      <td>WY</td>\n",
       "      <td>Weston</td>\n",
       "      <td>2.0</td>\n",
       "      <td>0.287068</td>\n",
       "      <td>0.0</td>\n",
       "      <td>0.000000</td>\n",
       "      <td>0.0</td>\n",
       "      <td>0.0</td>\n",
       "      <td>0.0</td>\n",
       "      <td>0.000000</td>\n",
       "      <td>0.0</td>\n",
       "      <td>0.0</td>\n",
       "      <td>W</td>\n",
       "      <td>13.1</td>\n",
       "      <td>940.0</td>\n",
       "      <td>20.2</td>\n",
       "      <td>300</td>\n",
       "      <td>3.15</td>\n",
       "      <td>505000.0</td>\n",
       "    </tr>\n",
       "  </tbody>\n",
       "</table>\n",
       "<p>3143 rows × 20 columns</p>\n",
       "</div>"
      ],
      "text/plain": [
       "       fips state      county  farmers_markets  farmers_markets_per_1000  \\\n",
       "0      1001    AL     Autauga              1.0                  0.017985   \n",
       "1      1003    AL     Baldwin              4.0                  0.018347   \n",
       "2      1005    AL     Barbour              4.0                  0.160765   \n",
       "3      1007    AL        Bibb              1.0                  0.044643   \n",
       "4      1009    AL      Blount              1.0                  0.017289   \n",
       "...     ...   ...         ...              ...                       ...   \n",
       "3138  56037    WY  Sweetwater              2.0                  0.046457   \n",
       "3139  56039    WY       Teton              3.0                  0.129977   \n",
       "3140  56041    WY       Uinta              2.0                  0.098527   \n",
       "3141  56043    WY    Washakie              2.0                  0.253646   \n",
       "3142  56045    WY      Weston              2.0                  0.287068   \n",
       "\n",
       "      fm_accepts_snap  pct_fm_accepting_snap  fm_accept_wic  \\\n",
       "0                 0.0               0.000000            0.0   \n",
       "1                 0.0               0.000000            0.0   \n",
       "2                 2.0              50.000000            0.0   \n",
       "3                 0.0               0.000000            0.0   \n",
       "4                 0.0               0.000000            1.0   \n",
       "...               ...                    ...            ...   \n",
       "3138              0.0               0.000000            0.0   \n",
       "3139              1.0              33.333332            0.0   \n",
       "3140              0.0               0.000000            0.0   \n",
       "3141              0.0               0.000000            0.0   \n",
       "3142              0.0               0.000000            0.0   \n",
       "\n",
       "      pct_fm_accept_wic  fm_accept_credit  pct_fm_credit  fm_sell_frveg  \\\n",
       "0                   0.0               0.0       0.000000            1.0   \n",
       "1                   0.0               2.0      50.000000            3.0   \n",
       "2                   0.0               2.0      50.000000            2.0   \n",
       "3                   0.0               0.0       0.000000            0.0   \n",
       "4                 100.0               0.0       0.000000            1.0   \n",
       "...                 ...               ...            ...            ...   \n",
       "3138                0.0               0.0       0.000000            0.0   \n",
       "3139                0.0               2.0      66.666664            3.0   \n",
       "3140                0.0               2.0     100.000000            0.0   \n",
       "3141                0.0               1.0      50.000000            2.0   \n",
       "3142                0.0               0.0       0.000000            0.0   \n",
       "\n",
       "      pct_fm_sell_frveg region  fi_rate  total_fi_people  child_fi_rate  \\\n",
       "0                 100.0      S     13.2           7270.0           19.8   \n",
       "1                  75.0      S     11.6          23560.0           18.9   \n",
       "2                  50.0      S     22.0           5760.0           27.6   \n",
       "3                   0.0      S     14.3           3240.0           22.1   \n",
       "4                 100.0      S     10.7           6140.0           21.2   \n",
       "...                 ...    ...      ...              ...            ...   \n",
       "3138                0.0      W     10.7           4750.0           17.0   \n",
       "3139              100.0      W      9.7           2220.0           11.7   \n",
       "3140                0.0      W     12.8           2660.0           18.9   \n",
       "3141              100.0      W     11.2            920.0           17.4   \n",
       "3142                0.0      W     13.1            940.0           20.2   \n",
       "\n",
       "     num_fi_children  cost_per_meal  est_annual_food_budget_shortfall  \n",
       "0              2670            3.19                         3957000.0  \n",
       "1              8480            3.57                        14361000.0  \n",
       "2              1520            3.09                         3035000.0  \n",
       "3              1050            3.05                         1684000.0  \n",
       "4              2880            3.10                         3249000.0  \n",
       "...              ...            ...                               ...  \n",
       "3138           2030            3.14                         2542000.0  \n",
       "3139            520            4.20                         1592000.0  \n",
       "3140           1160            2.95                         1340000.0  \n",
       "3141            350            3.16                          497000.0  \n",
       "3142            300            3.15                          505000.0  \n",
       "\n",
       "[3143 rows x 20 columns]"
      ]
     },
     "execution_count": 59,
     "metadata": {},
     "output_type": "execute_result"
    }
   ],
   "source": [
    "merged"
   ]
  },
  {
   "cell_type": "code",
   "execution_count": 60,
   "id": "cdc369ff",
   "metadata": {
    "scrolled": true
   },
   "outputs": [
    {
     "data": {
      "text/html": [
       "<div>\n",
       "<style scoped>\n",
       "    .dataframe tbody tr th:only-of-type {\n",
       "        vertical-align: middle;\n",
       "    }\n",
       "\n",
       "    .dataframe tbody tr th {\n",
       "        vertical-align: top;\n",
       "    }\n",
       "\n",
       "    .dataframe thead th {\n",
       "        text-align: right;\n",
       "    }\n",
       "</style>\n",
       "<table border=\"1\" class=\"dataframe\">\n",
       "  <thead>\n",
       "    <tr style=\"text-align: right;\">\n",
       "      <th></th>\n",
       "      <th>fips</th>\n",
       "      <th>farmers_markets</th>\n",
       "      <th>farmers_markets_per_1000</th>\n",
       "      <th>fm_accepts_snap</th>\n",
       "      <th>pct_fm_accepting_snap</th>\n",
       "      <th>fm_accept_wic</th>\n",
       "      <th>pct_fm_accept_wic</th>\n",
       "      <th>fm_accept_credit</th>\n",
       "      <th>pct_fm_credit</th>\n",
       "      <th>fm_sell_frveg</th>\n",
       "      <th>pct_fm_sell_frveg</th>\n",
       "      <th>fi_rate</th>\n",
       "      <th>total_fi_people</th>\n",
       "      <th>child_fi_rate</th>\n",
       "      <th>cost_per_meal</th>\n",
       "      <th>est_annual_food_budget_shortfall</th>\n",
       "    </tr>\n",
       "  </thead>\n",
       "  <tbody>\n",
       "    <tr>\n",
       "      <th>count</th>\n",
       "      <td>3143.000000</td>\n",
       "      <td>3142.000000</td>\n",
       "      <td>3140.000000</td>\n",
       "      <td>3142.000000</td>\n",
       "      <td>3142.000000</td>\n",
       "      <td>3142.000000</td>\n",
       "      <td>3142.000000</td>\n",
       "      <td>3142.000000</td>\n",
       "      <td>3142.000000</td>\n",
       "      <td>3142.000000</td>\n",
       "      <td>3142.000000</td>\n",
       "      <td>3140.000000</td>\n",
       "      <td>3.140000e+03</td>\n",
       "      <td>3140.000000</td>\n",
       "      <td>3140.000000</td>\n",
       "      <td>3.140000e+03</td>\n",
       "    </tr>\n",
       "    <tr>\n",
       "      <th>mean</th>\n",
       "      <td>30390.411709</td>\n",
       "      <td>2.756525</td>\n",
       "      <td>0.059385</td>\n",
       "      <td>0.914386</td>\n",
       "      <td>18.845784</td>\n",
       "      <td>0.852323</td>\n",
       "      <td>16.057862</td>\n",
       "      <td>1.604710</td>\n",
       "      <td>38.037682</td>\n",
       "      <td>1.831636</td>\n",
       "      <td>46.771902</td>\n",
       "      <td>13.241911</td>\n",
       "      <td>1.283054e+04</td>\n",
       "      <td>19.355541</td>\n",
       "      <td>3.019672</td>\n",
       "      <td>6.910285e+06</td>\n",
       "    </tr>\n",
       "    <tr>\n",
       "      <th>std</th>\n",
       "      <td>15164.717720</td>\n",
       "      <td>5.819495</td>\n",
       "      <td>0.100356</td>\n",
       "      <td>2.917630</td>\n",
       "      <td>32.317212</td>\n",
       "      <td>2.946811</td>\n",
       "      <td>30.714804</td>\n",
       "      <td>3.884805</td>\n",
       "      <td>41.835732</td>\n",
       "      <td>4.141478</td>\n",
       "      <td>44.063487</td>\n",
       "      <td>3.945860</td>\n",
       "      <td>4.120715e+04</td>\n",
       "      <td>4.452376</td>\n",
       "      <td>0.316838</td>\n",
       "      <td>2.295919e+07</td>\n",
       "    </tr>\n",
       "    <tr>\n",
       "      <th>min</th>\n",
       "      <td>1001.000000</td>\n",
       "      <td>0.000000</td>\n",
       "      <td>0.000000</td>\n",
       "      <td>0.000000</td>\n",
       "      <td>0.000000</td>\n",
       "      <td>0.000000</td>\n",
       "      <td>0.000000</td>\n",
       "      <td>0.000000</td>\n",
       "      <td>0.000000</td>\n",
       "      <td>0.000000</td>\n",
       "      <td>0.000000</td>\n",
       "      <td>2.900000</td>\n",
       "      <td>1.000000e+01</td>\n",
       "      <td>6.400000</td>\n",
       "      <td>2.070000</td>\n",
       "      <td>5.000000e+03</td>\n",
       "    </tr>\n",
       "    <tr>\n",
       "      <th>25%</th>\n",
       "      <td>18178.000000</td>\n",
       "      <td>0.000000</td>\n",
       "      <td>0.000000</td>\n",
       "      <td>0.000000</td>\n",
       "      <td>0.000000</td>\n",
       "      <td>0.000000</td>\n",
       "      <td>0.000000</td>\n",
       "      <td>0.000000</td>\n",
       "      <td>0.000000</td>\n",
       "      <td>0.000000</td>\n",
       "      <td>0.000000</td>\n",
       "      <td>10.600000</td>\n",
       "      <td>1.480000e+03</td>\n",
       "      <td>16.300000</td>\n",
       "      <td>2.830000</td>\n",
       "      <td>7.375000e+05</td>\n",
       "    </tr>\n",
       "    <tr>\n",
       "      <th>50%</th>\n",
       "      <td>29177.000000</td>\n",
       "      <td>1.000000</td>\n",
       "      <td>0.029985</td>\n",
       "      <td>0.000000</td>\n",
       "      <td>0.000000</td>\n",
       "      <td>0.000000</td>\n",
       "      <td>0.000000</td>\n",
       "      <td>1.000000</td>\n",
       "      <td>20.000000</td>\n",
       "      <td>1.000000</td>\n",
       "      <td>50.000000</td>\n",
       "      <td>12.800000</td>\n",
       "      <td>3.505000e+03</td>\n",
       "      <td>19.100000</td>\n",
       "      <td>2.980000</td>\n",
       "      <td>1.779000e+06</td>\n",
       "    </tr>\n",
       "    <tr>\n",
       "      <th>75%</th>\n",
       "      <td>45082.000000</td>\n",
       "      <td>3.000000</td>\n",
       "      <td>0.071691</td>\n",
       "      <td>1.000000</td>\n",
       "      <td>33.333332</td>\n",
       "      <td>1.000000</td>\n",
       "      <td>17.401960</td>\n",
       "      <td>2.000000</td>\n",
       "      <td>80.000000</td>\n",
       "      <td>2.000000</td>\n",
       "      <td>100.000000</td>\n",
       "      <td>15.200000</td>\n",
       "      <td>8.922500e+03</td>\n",
       "      <td>22.300000</td>\n",
       "      <td>3.160000</td>\n",
       "      <td>4.514000e+06</td>\n",
       "    </tr>\n",
       "    <tr>\n",
       "      <th>max</th>\n",
       "      <td>56045.000000</td>\n",
       "      <td>124.000000</td>\n",
       "      <td>1.472754</td>\n",
       "      <td>53.000000</td>\n",
       "      <td>100.000000</td>\n",
       "      <td>49.000000</td>\n",
       "      <td>100.000000</td>\n",
       "      <td>69.000000</td>\n",
       "      <td>100.000000</td>\n",
       "      <td>69.000000</td>\n",
       "      <td>100.000000</td>\n",
       "      <td>36.300000</td>\n",
       "      <td>1.135710e+06</td>\n",
       "      <td>39.600000</td>\n",
       "      <td>6.200000</td>\n",
       "      <td>6.569320e+08</td>\n",
       "    </tr>\n",
       "  </tbody>\n",
       "</table>\n",
       "</div>"
      ],
      "text/plain": [
       "               fips  farmers_markets  farmers_markets_per_1000  \\\n",
       "count   3143.000000      3142.000000               3140.000000   \n",
       "mean   30390.411709         2.756525                  0.059385   \n",
       "std    15164.717720         5.819495                  0.100356   \n",
       "min     1001.000000         0.000000                  0.000000   \n",
       "25%    18178.000000         0.000000                  0.000000   \n",
       "50%    29177.000000         1.000000                  0.029985   \n",
       "75%    45082.000000         3.000000                  0.071691   \n",
       "max    56045.000000       124.000000                  1.472754   \n",
       "\n",
       "       fm_accepts_snap  pct_fm_accepting_snap  fm_accept_wic  \\\n",
       "count      3142.000000            3142.000000    3142.000000   \n",
       "mean          0.914386              18.845784       0.852323   \n",
       "std           2.917630              32.317212       2.946811   \n",
       "min           0.000000               0.000000       0.000000   \n",
       "25%           0.000000               0.000000       0.000000   \n",
       "50%           0.000000               0.000000       0.000000   \n",
       "75%           1.000000              33.333332       1.000000   \n",
       "max          53.000000             100.000000      49.000000   \n",
       "\n",
       "       pct_fm_accept_wic  fm_accept_credit  pct_fm_credit  fm_sell_frveg  \\\n",
       "count        3142.000000       3142.000000    3142.000000    3142.000000   \n",
       "mean           16.057862          1.604710      38.037682       1.831636   \n",
       "std            30.714804          3.884805      41.835732       4.141478   \n",
       "min             0.000000          0.000000       0.000000       0.000000   \n",
       "25%             0.000000          0.000000       0.000000       0.000000   \n",
       "50%             0.000000          1.000000      20.000000       1.000000   \n",
       "75%            17.401960          2.000000      80.000000       2.000000   \n",
       "max           100.000000         69.000000     100.000000      69.000000   \n",
       "\n",
       "       pct_fm_sell_frveg      fi_rate  total_fi_people  child_fi_rate  \\\n",
       "count        3142.000000  3140.000000     3.140000e+03    3140.000000   \n",
       "mean           46.771902    13.241911     1.283054e+04      19.355541   \n",
       "std            44.063487     3.945860     4.120715e+04       4.452376   \n",
       "min             0.000000     2.900000     1.000000e+01       6.400000   \n",
       "25%             0.000000    10.600000     1.480000e+03      16.300000   \n",
       "50%            50.000000    12.800000     3.505000e+03      19.100000   \n",
       "75%           100.000000    15.200000     8.922500e+03      22.300000   \n",
       "max           100.000000    36.300000     1.135710e+06      39.600000   \n",
       "\n",
       "       cost_per_meal  est_annual_food_budget_shortfall  \n",
       "count    3140.000000                      3.140000e+03  \n",
       "mean        3.019672                      6.910285e+06  \n",
       "std         0.316838                      2.295919e+07  \n",
       "min         2.070000                      5.000000e+03  \n",
       "25%         2.830000                      7.375000e+05  \n",
       "50%         2.980000                      1.779000e+06  \n",
       "75%         3.160000                      4.514000e+06  \n",
       "max         6.200000                      6.569320e+08  "
      ]
     },
     "execution_count": 60,
     "metadata": {},
     "output_type": "execute_result"
    }
   ],
   "source": [
    "merged.describe()"
   ]
  },
  {
   "cell_type": "code",
   "execution_count": 61,
   "id": "d93552a4",
   "metadata": {},
   "outputs": [
    {
     "data": {
      "text/plain": [
       "Text(0.5, 1.0, 'Farmers Market per 100 people against food insecurity rate')"
      ]
     },
     "execution_count": 61,
     "metadata": {},
     "output_type": "execute_result"
    },
    {
     "data": {
      "image/png": "[encoded data removed]",
      "text/plain": [
       "<Figure size 432x288 with 1 Axes>"
      ]
     },
     "metadata": {
      "needs_background": "light"
     },
     "output_type": "display_data"
    }
   ],
   "source": [
    "fi_fm = merged.plot.scatter(x='farmers_markets_per_1000',\n",
    "                           y='fi_rate')\n",
    "\n",
    "fi_fm.set_title(\"Farmers Market per 100 people against food insecurity rate\")"
   ]
  },
  {
   "cell_type": "code",
   "execution_count": 62,
   "id": "9d4c21a0",
   "metadata": {},
   "outputs": [
    {
     "data": {
      "text/plain": [
       "Text(0.5, 1.0, 'Annual food budget shortfall against food insecurity rate')"
      ]
     },
     "execution_count": 62,
     "metadata": {},
     "output_type": "execute_result"
    },
    {
     "data": {
      "image/png": "[encoded data removed]",
      "text/plain": [
       "<Figure size 432x288 with 1 Axes>"
      ]
     },
     "metadata": {
      "needs_background": "light"
     },
     "output_type": "display_data"
    }
   ],
   "source": [
    "budget_fi = merged.plot.scatter(x='est_annual_food_budget_shortfall',\n",
    "                           y='fi_rate')\n",
    "budget_fi.set_title(\"Annual food budget shortfall against food insecurity rate\")"
   ]
  },
  {
   "cell_type": "code",
   "execution_count": 63,
   "id": "c8f387b5",
   "metadata": {},
   "outputs": [
    {
     "data": {
      "text/plain": [
       "Text(0.5, 1.0, 'cost per meal against food insecurity rate')"
      ]
     },
     "execution_count": 63,
     "metadata": {},
     "output_type": "execute_result"
    },
    {
     "data": {
      "image/png": "[encoded data removed]",
      "text/plain": [
       "<Figure size 432x288 with 1 Axes>"
      ]
     },
     "metadata": {
      "needs_background": "light"
     },
     "output_type": "display_data"
    }
   ],
   "source": [
    "cpm_fi = merged.plot.scatter(x='cost_per_meal',\n",
    "                           y='fi_rate')\n",
    "cpm_fi.set_title(\"cost per meal against food insecurity rate\")"
   ]
  }
 ],
 "metadata": {
  "kernelspec": {
   "display_name": "Python 3",
   "language": "python",
   "name": "python3"
  },
  "language_info": {
   "codemirror_mode": {
    "name": "ipython",
    "version": 3
   },
   "file_extension": ".py",
   "mimetype": "text/x-python",
   "name": "python",
   "nbconvert_exporter": "python",
   "pygments_lexer": "ipython3",
   "version": "3.8.8"
  }
 },
 "nbformat": 4,
 "nbformat_minor": 5
}
