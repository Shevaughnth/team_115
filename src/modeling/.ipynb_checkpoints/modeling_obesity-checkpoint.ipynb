{
 "cells": [
  {
   "cell_type": "markdown",
   "id": "597efedb",
   "metadata": {},
   "source": [
    "# Linear regression modeling"
   ]
  },
  {
   "cell_type": "markdown",
   "id": "65187a0e",
   "metadata": {},
   "source": [
    "## Dataframe setup"
   ]
  },
  {
   "cell_type": "markdown",
   "id": "69b1000b",
   "metadata": {},
   "source": [
    "Although our data was cleaned for the EDA section, some extra cleaning is required for running our model. Examples include, creating dummy variables as well as dropping columns with too many missing values as well as counties with missing values in any column. Below, we load in the required packages as well as clean as described above."
   ]
  },
  {
   "cell_type": "code",
   "execution_count": 1,
   "id": "5ad25996",
   "metadata": {},
   "outputs": [],
   "source": [
    "# loading in necessary packages\n",
    "import numpy as np\n",
    "import pandas as pd\n",
    "import matplotlib.pyplot as plt\n",
    "import seaborn as sns\n",
    "import statsmodels.formula.api as sm\n",
    "from statsmodels.stats.outliers_influence import variance_inflation_factor"
   ]
  },
  {
   "cell_type": "code",
   "execution_count": 2,
   "id": "de7c00f2",
   "metadata": {},
   "outputs": [],
   "source": [
    "# loading in obesity data from our EDA and dropping columns that have too many null values. Additonally, hawaii and alaska\n",
    "# had no inputs for obesity rates which are necessary for our model. Thus, they were dropped. \n",
    "# furthermore, obesity proxies that went into creating healthy score access was also dropped.\n",
    "obesity_df = pd.read_csv(\"../../processed_data/obesity_eda.csv\")\n",
    "obesity_df[~obesity_df.region.str.contains('O')]\n",
    "obesity_df = obesity_df.drop(columns = ['primary_minority', 'supercenter_access_score', 'grocery_access_score', 'fullservice_access_score', 'farmersmarket_access_score', 'wic_available_per1000', 'snap_bens_per1000'])\n",
    "\n",
    "# Loading in car access data\n",
    "car_access_df = pd.read_csv(\"../../processed_data/car_access_2017.csv\")\n",
    "\n",
    "# Merged the two data sets\n",
    "obesity_df = pd.merge(obesity_df, car_access_df, how = 'left', on = 'fips')\n",
    "\n",
    "# made some numerical variables easier to read \n",
    "obesity_df['percent_no_car'] = obesity_df['percent_no_car'] * 100\n",
    "obesity_df['pop_estimate'] = obesity_df['pop_estimate']/1000"
   ]
  },
  {
   "cell_type": "markdown",
   "id": "cf0d0af4",
   "metadata": {},
   "source": [
    "We wanted to find the counties within the contingous US that could be described as food desserts. One definition of  'food dessert', provided by the Annie E Casie foundation can be found [here](https://www.aecf.org/blog/exploring-americas-food-deserts),and other sources present a similar idea. The food insecurity variable in our data, obtained from Feeding America and coded as the fi_rate column, was calculated using many of the factors already described in the food insecurity definition found above; the calculation can be found [here](https://www.feedingamerica.org/sites/default/files/research/map-the-meal-gap/2016/2016-map-the-meal-gap-technical-brief.pdf). What was missing was a variable for access to food. Considering we had already created a proxy for access to food (healthy_access_category which encompasses grocery stores, supercenters, restaurants, and farmers markets), we decided to use both fi_rate and healthy_access_category to determine whether or not a county was labelled as being a food dessert.\n",
    "\n",
    "The third quartile for food insecurity is at about 15.200000 meaning 75 percent is at or below that value. We decided that any county in the highest 25% would be considered the 'highest tier' of food insecurity. We chose to take the top 25% because it is marginally conservative. We then decided too be food insecure, the county not only had to be within the top 25% of insecure counties in the United states but also have either low or medium access to healthy foods."
   ]
  },
  {
   "cell_type": "code",
   "execution_count": 3,
   "id": "899c6db0",
   "metadata": {},
   "outputs": [],
   "source": [
    "# Making our food dessert categorical variable. \n",
    "conditions = [(obesity_df[\"fi_rate\"] > 15) & (obesity_df[\"healthy_access_category\"] != 'high'), \n",
    "              (obesity_df[\"fi_rate\"] <= 15)]\n",
    "values = [1, 0]\n",
    "\n",
    "obesity_df[\"food_dessert\"] = np.select(conditions, values)"
   ]
  },
  {
   "cell_type": "code",
   "execution_count": 4,
   "id": "c69ca077",
   "metadata": {},
   "outputs": [],
   "source": [
    "# dropping any remaining null values so our model can work\n",
    "obesity_df = obesity_df.dropna()"
   ]
  },
  {
   "cell_type": "code",
   "execution_count": 5,
   "id": "e08001a9",
   "metadata": {
    "scrolled": true
   },
   "outputs": [],
   "source": [
    "# creating dummy variables; the VIF test does not take in categorical variables\n",
    "\n",
    "obesity_df['region'] = obesity_df['region'].map({'N':1, 'M':2, 'S':3, 'W':4})\n",
    "obesity_df['healthy_access_category'] = obesity_df['healthy_access_category'].map({'low':1, 'medium':2, 'high':3})\n",
    "obesity_df['class_category'] = obesity_df['class_category'].map({'low_income':1, 'lower_mid_class':2, 'mid_class':3, 'highest_income': 4})"
   ]
  },
  {
   "cell_type": "markdown",
   "id": "264226cc",
   "metadata": {},
   "source": [
    "### Checking data to determine which variables do not have colinearity then running multivarable regression model"
   ]
  },
  {
   "cell_type": "markdown",
   "id": "d2d5b40e",
   "metadata": {},
   "source": [
    "In order to avoid multicollinearity, [independent values which have high correlation with eachother](https://towardsdatascience.com/multi-collinearity-in-regression-fe7a2c1467ea), we used the Variance Inflation Factor (VIF) technque. In the VIF method, all features are regressed against all of the other features. We only took variables with a VIF below 10."
   ]
  },
  {
   "cell_type": "markdown",
   "id": "9c12ccd5",
   "metadata": {},
   "source": [
    "#### Attempt 1: Running VIF on all columns followed by model (inefficent)"
   ]
  },
  {
   "cell_type": "markdown",
   "id": "1cfbe4dc",
   "metadata": {},
   "source": [
    "In this first attempt, we took every column in our dataset and ran VIF on it. We then only put the variables with low VIF into the regression model. Following that, we removed variables one by one in the model if they did not have a significant p value."
   ]
  },
  {
   "cell_type": "code",
   "execution_count": 6,
   "id": "d40c26c6",
   "metadata": {},
   "outputs": [],
   "source": [
    "# putting all of our columns into a list\n",
    "indp_vars = obesity_df[['percent_pop_low_access_15',\n",
    "       'percent_low_income_low_access_15', 'percent_no_car_low_access_15',\n",
    "       'percent_snap_low_access_15', 'percent_child_low_access_15',\n",
    "       'percent_senior_low_access_15', 'percent_white_low_access_15',\n",
    "       'percent_black_low_access_15', 'percent_hispanic_low_access_15',\n",
    "       'percent_asian_low_access_15', 'percent_nhna_low_access_15',\n",
    "       'nhpi_low_access_15', 'percent_nhpi_low_access_15',\n",
    "       'percent_multiracial_low_access_15', 'grocery_per1000', 'super_per1000',\n",
    "       'convenience_per1000', 'specialty_per1000', 'snap_available_per1000',\n",
    "        'farmers_markets_per1000', 'pct_fm_accepting_snap',\n",
    "       'pct_fm_accept_wic', 'pct_fm_credit', 'fm_sell_frveg',\n",
    "       'pct_fm_sell_frveg', 'region','cost_per_meal', 'est_annual_food_budget_shortfall',\n",
    "       'school_lunch_prog_17', 'school_bfast_prog_17', 'smr_food_prog_17',\n",
    "       'wic_parts_pop_17', 'fast_food_per1000', 'full_service_per1000',\n",
    "       'pop_estimate', 'percent_white', 'percent_black',\n",
    "       'percent_native_american', 'percent_asian', 'percent_nhpi',\n",
    "       'percent_multi', 'percent_nonwhite_hispanic', 'median_household_income',\n",
    "       'class_category', 'healthy_access_score',\n",
    "       'healthy_access_category', 'percent_no_car', 'food_dessert']]"
   ]
  },
  {
   "cell_type": "code",
   "execution_count": 7,
   "id": "ac395c0d",
   "metadata": {},
   "outputs": [],
   "source": [
    "#https://www.geeksforgeeks.org/detecting-multicollinearity-with-vif-python/\n",
    "# creating a blank dataframe followed by adding each column to a new column called feature\n",
    "vif_data = pd.DataFrame()\n",
    "vif_data[\"feature\"] = indp_vars.columns\n",
    "\n",
    "# for every feature in vif_data, run VIF on it \n",
    "vif_data[\"VIF\"] = [variance_inflation_factor(indp_vars.values, i)\n",
    "                          for i in range(len(indp_vars.columns))]\n",
    "\n",
    "# filter the data to include VIF less than ten\n",
    "vif_data = vif_data[vif_data[\"VIF\"] < 10]"
   ]
  },
  {
   "cell_type": "code",
   "execution_count": 8,
   "id": "87fb4fe3",
   "metadata": {},
   "outputs": [
    {
     "name": "stdout",
     "output_type": "stream",
     "text": [
      "                            OLS Regression Results                            \n",
      "==============================================================================\n",
      "Dep. Variable:           obesity_rate   R-squared:                       0.402\n",
      "Model:                            OLS   Adj. R-squared:                  0.398\n",
      "Method:                 Least Squares   F-statistic:                     107.5\n",
      "Date:                Sun, 11 Jul 2021   Prob (F-statistic):          1.77e-321\n",
      "Time:                        04:49:57   Log-Likelihood:                -8144.4\n",
      "No. Observations:                3062   AIC:                         1.633e+04\n",
      "Df Residuals:                    3042   BIC:                         1.645e+04\n",
      "Df Model:                          19                                         \n",
      "Covariance Type:            nonrobust                                         \n",
      "================================================================================================\n",
      "                                   coef    std err          t      P>|t|      [0.025      0.975]\n",
      "------------------------------------------------------------------------------------------------\n",
      "Intercept                       31.1097      0.280    111.024      0.000      30.560      31.659\n",
      "percent_no_car_low_access_15    36.1745      3.395     10.655      0.000      29.518      42.831\n",
      "grocery_per1000                 -0.1250      0.393     -0.318      0.751      -0.896       0.646\n",
      "super_per1000                   18.0785      3.065      5.899      0.000      12.069      24.088\n",
      "convenience_per1000              1.7322      0.245      7.057      0.000       1.251       2.213\n",
      "specialty_per1000               -2.6634      0.897     -2.969      0.003      -4.423      -0.904\n",
      "farmers_markets_per1000         -0.3442      0.758     -0.454      0.650      -1.829       1.141\n",
      "pct_fm_accepting_snap         9.687e-05      0.003      0.038      0.970      -0.005       0.005\n",
      "pct_fm_accept_wic               -0.0005      0.002     -0.198      0.843      -0.005       0.004\n",
      "pct_fm_credit                   -0.0129      0.002     -5.362      0.000      -0.018      -0.008\n",
      "fm_sell_frveg                   -0.1273      0.020     -6.456      0.000      -0.166      -0.089\n",
      "pct_fm_sell_frveg                0.0054      0.002      2.355      0.019       0.001       0.010\n",
      "smr_food_prog_17                 0.0413      0.030      1.383      0.167      -0.017       0.100\n",
      "fast_food_per1000               -0.0002      0.254     -0.001      0.999      -0.498       0.497\n",
      "full_service_per1000            -2.1155      0.151    -13.974      0.000      -2.412      -1.819\n",
      "percent_native_american          0.0263      0.010      2.590      0.010       0.006       0.046\n",
      "percent_asian                   -0.3456      0.034    -10.043      0.000      -0.413      -0.278\n",
      "percent_nhpi                    -0.7796      0.365     -2.139      0.033      -1.494      -0.065\n",
      "percent_multi                   -0.7519      0.134     -5.624      0.000      -1.014      -0.490\n",
      "food_dessert                     1.7169      0.172     10.011      0.000       1.381       2.053\n",
      "==============================================================================\n",
      "Omnibus:                       91.627   Durbin-Watson:                   1.383\n",
      "Prob(Omnibus):                  0.000   Jarque-Bera (JB):              125.360\n",
      "Skew:                          -0.325   Prob(JB):                     6.00e-28\n",
      "Kurtosis:                       3.749   Cond. No.                     4.91e+03\n",
      "==============================================================================\n",
      "\n",
      "Notes:\n",
      "[1] Standard Errors assume that the covariance matrix of the errors is correctly specified.\n",
      "[2] The condition number is large, 4.91e+03. This might indicate that there are\n",
      "strong multicollinearity or other numerical problems.\n"
     ]
    }
   ],
   "source": [
    "# code was modeled and influenced by DS4A (Correlation One) material\n",
    "formula= 'obesity_rate ~  percent_no_car_low_access_15 + grocery_per1000+ super_per1000+convenience_per1000+ specialty_per1000+farmers_markets_per1000+ pct_fm_accepting_snap+pct_fm_accept_wic+ pct_fm_credit+ fm_sell_frveg+pct_fm_sell_frveg+ smr_food_prog_17+ fast_food_per1000+full_service_per1000+ percent_native_american+ percent_asian+percent_nhpi+ percent_multi+ food_dessert'\n",
    "model1 = sm.ols(formula = formula, data = obesity_df)\n",
    "lin_reg = model1.fit()\n",
    "print(lin_reg.summary())"
   ]
  },
  {
   "cell_type": "markdown",
   "id": "223406e3",
   "metadata": {},
   "source": [
    "#### Running VIS on columns thoght to have relevance in literature"
   ]
  },
  {
   "cell_type": "markdown",
   "id": "088a545b",
   "metadata": {},
   "source": [
    "In this second attempt, we took only columns in our dataset that had some evidence in the literature of having an effecton obesitynand ran VIF on it. We then only put the variables with low VIF into the regression model. Following that, we removed variables one by one in the model if they did not have a significant p-value."
   ]
  },
  {
   "cell_type": "code",
   "execution_count": 9,
   "id": "7f573c7f",
   "metadata": {},
   "outputs": [],
   "source": [
    "# Making our food dessert categorical variable. \n",
    "indp_vars2 = obesity_df[[ 'grocery_per1000', 'super_per1000',\n",
    "       'convenience_per1000', 'snap_available_per1000','fast_food_per1000', 'full_service_per1000',\n",
    "       'farmers_markets_per1000', 'cost_per_meal', 'smr_food_prog_17', 'pop_estimate', 'percent_white', 'percent_black',\n",
    "       'percent_native_american', 'percent_asian', 'percent_nhpi',\n",
    "       'percent_multi', 'percent_nonwhite_hispanic', 'food_dessert', 'school_lunch_prog_17', 'school_bfast_prog_17']]"
   ]
  },
  {
   "cell_type": "code",
   "execution_count": 10,
   "id": "709bc265",
   "metadata": {},
   "outputs": [
    {
     "data": {
      "text/plain": [
       "array(['grocery_per1000', 'super_per1000', 'convenience_per1000',\n",
       "       'fast_food_per1000', 'full_service_per1000',\n",
       "       'farmers_markets_per1000', 'smr_food_prog_17', 'pop_estimate',\n",
       "       'percent_black', 'percent_native_american', 'percent_asian',\n",
       "       'percent_nhpi', 'percent_multi', 'percent_nonwhite_hispanic',\n",
       "       'food_dessert'], dtype=object)"
      ]
     },
     "execution_count": 10,
     "metadata": {},
     "output_type": "execute_result"
    }
   ],
   "source": [
    "#https://www.geeksforgeeks.org/detecting-multicollinearity-with-vif-python/\n",
    "# creating a blank dataframe followed by adding each column to a new column called feature\n",
    "vif_data2 = pd.DataFrame()\n",
    "vif_data2[\"feature\"] = indp_vars2.columns\n",
    "\n",
    "# for every feature in vif_data, run VIF on it \n",
    "vif_data2[\"VIF\"] = [variance_inflation_factor(indp_vars2.values, i)\n",
    "                          for i in range(len(indp_vars2.columns))]\n",
    "\n",
    "# filter the data to include VIF less than ten\n",
    "vif_data2 = vif_data2[vif_data2[\"VIF\"] < 10]"
   ]
  },
  {
   "cell_type": "code",
   "execution_count": 11,
   "id": "e74e2d89",
   "metadata": {},
   "outputs": [
    {
     "name": "stdout",
     "output_type": "stream",
     "text": [
      "                            OLS Regression Results                            \n",
      "==============================================================================\n",
      "Dep. Variable:           obesity_rate   R-squared:                       0.402\n",
      "Model:                            OLS   Adj. R-squared:                  0.398\n",
      "Method:                 Least Squares   F-statistic:                     107.5\n",
      "Date:                Sun, 11 Jul 2021   Prob (F-statistic):          1.77e-321\n",
      "Time:                        04:49:57   Log-Likelihood:                -8144.4\n",
      "No. Observations:                3062   AIC:                         1.633e+04\n",
      "Df Residuals:                    3042   BIC:                         1.645e+04\n",
      "Df Model:                          19                                         \n",
      "Covariance Type:            nonrobust                                         \n",
      "================================================================================================\n",
      "                                   coef    std err          t      P>|t|      [0.025      0.975]\n",
      "------------------------------------------------------------------------------------------------\n",
      "Intercept                       31.1097      0.280    111.024      0.000      30.560      31.659\n",
      "percent_no_car_low_access_15    36.1745      3.395     10.655      0.000      29.518      42.831\n",
      "grocery_per1000                 -0.1250      0.393     -0.318      0.751      -0.896       0.646\n",
      "super_per1000                   18.0785      3.065      5.899      0.000      12.069      24.088\n",
      "convenience_per1000              1.7322      0.245      7.057      0.000       1.251       2.213\n",
      "specialty_per1000               -2.6634      0.897     -2.969      0.003      -4.423      -0.904\n",
      "farmers_markets_per1000         -0.3442      0.758     -0.454      0.650      -1.829       1.141\n",
      "pct_fm_accepting_snap         9.687e-05      0.003      0.038      0.970      -0.005       0.005\n",
      "pct_fm_accept_wic               -0.0005      0.002     -0.198      0.843      -0.005       0.004\n",
      "pct_fm_credit                   -0.0129      0.002     -5.362      0.000      -0.018      -0.008\n",
      "fm_sell_frveg                   -0.1273      0.020     -6.456      0.000      -0.166      -0.089\n",
      "pct_fm_sell_frveg                0.0054      0.002      2.355      0.019       0.001       0.010\n",
      "smr_food_prog_17                 0.0413      0.030      1.383      0.167      -0.017       0.100\n",
      "fast_food_per1000               -0.0002      0.254     -0.001      0.999      -0.498       0.497\n",
      "full_service_per1000            -2.1155      0.151    -13.974      0.000      -2.412      -1.819\n",
      "percent_native_american          0.0263      0.010      2.590      0.010       0.006       0.046\n",
      "percent_asian                   -0.3456      0.034    -10.043      0.000      -0.413      -0.278\n",
      "percent_nhpi                    -0.7796      0.365     -2.139      0.033      -1.494      -0.065\n",
      "percent_multi                   -0.7519      0.134     -5.624      0.000      -1.014      -0.490\n",
      "food_dessert                     1.7169      0.172     10.011      0.000       1.381       2.053\n",
      "==============================================================================\n",
      "Omnibus:                       91.627   Durbin-Watson:                   1.383\n",
      "Prob(Omnibus):                  0.000   Jarque-Bera (JB):              125.360\n",
      "Skew:                          -0.325   Prob(JB):                     6.00e-28\n",
      "Kurtosis:                       3.749   Cond. No.                     4.91e+03\n",
      "==============================================================================\n",
      "\n",
      "Notes:\n",
      "[1] Standard Errors assume that the covariance matrix of the errors is correctly specified.\n",
      "[2] The condition number is large, 4.91e+03. This might indicate that there are\n",
      "strong multicollinearity or other numerical problems.\n"
     ]
    }
   ],
   "source": [
    "# code was modeled and influenced by DS4A (Correlation One) material\n",
    "formula2= 'obesity_rate ~ super_per1000+ convenience_per1000+fast_food_per1000+ full_service_per1000+farmers_markets_per1000+ smr_food_prog_17+ pop_estimate+percent_black+ percent_native_american+ percent_asian+percent_nhpi+ percent_multi+ percent_nonwhite_hispanic+food_dessert'\n",
    "model2 = sm.ols(formula = formula2, data = obesity_df)\n",
    "lin_reg2 = model2.fit()\n",
    "print(lin_reg.summary())"
   ]
  },
  {
   "cell_type": "markdown",
   "id": "9974367c",
   "metadata": {},
   "source": [
    "Looks like our second model would have (p = .01)\n",
    "    - supercenter\n",
    "    - convenience stores\n",
    "    - fast food\n",
    "    - full service restaurants\n",
    "    - population\n",
    "    - race factors (black, native, asian, hispanic) \n",
    "    - food dessert\n",
    "    - population\n",
    "    \n",
    "    Total = 11 variables, 12 if chose a p value of .05\n",
    "    \n",
    "if it was .05 then only addition is summer food programs"
   ]
  },
  {
   "cell_type": "markdown",
   "id": "014839ab",
   "metadata": {},
   "source": [
    "## Predicting obesity"
   ]
  },
  {
   "cell_type": "markdown",
   "id": "05ada2bd",
   "metadata": {},
   "source": [
    "#### based on model two"
   ]
  },
  {
   "cell_type": "code",
   "execution_count": 12,
   "id": "29421dde",
   "metadata": {},
   "outputs": [],
   "source": [
    "import statsmodels.api as sm"
   ]
  },
  {
   "cell_type": "code",
   "execution_count": 13,
   "id": "cc68a17e",
   "metadata": {},
   "outputs": [
    {
     "data": {
      "text/plain": [
       "Intercept                    32.563944\n",
       "super_per1000                16.007640\n",
       "convenience_per1000           1.566608\n",
       "fast_food_per1000            -0.694412\n",
       "full_service_per1000         -2.293502\n",
       "farmers_markets_per1000      -0.863413\n",
       "smr_food_prog_17             -0.058752\n",
       "pop_estimate                 -0.001028\n",
       "percent_black                 0.079123\n",
       "percent_native_american       0.059266\n",
       "percent_asian                -0.474931\n",
       "percent_nhpi                 -0.473993\n",
       "percent_multi                -0.221359\n",
       "percent_nonwhite_hispanic    -0.048267\n",
       "food_dessert                  0.845674\n",
       "dtype: float64"
      ]
     },
     "execution_count": 13,
     "metadata": {},
     "output_type": "execute_result"
    }
   ],
   "source": [
    "# These are the coefficents of the variables in the model\n",
    "lin_reg2.params"
   ]
  },
  {
   "cell_type": "code",
   "execution_count": 14,
   "id": "a7683da4",
   "metadata": {},
   "outputs": [],
   "source": [
    "column_names = 'super_per1000', 'convenience_per1000','fast_food_per1000', 'full_service_per1000','farmers_markets_per1000', 'smr_food_prog_17', 'pop_estimate,percent_black', 'percent_native_american', 'percent_asian','percent_nhpi', 'percent_multi', 'percent_nonwhite_hispanic','food_dessert'"
   ]
  },
  {
   "cell_type": "code",
   "execution_count": 15,
   "id": "e5df6bec",
   "metadata": {},
   "outputs": [],
   "source": [
    "new_vals = pd.DataFrame(columns = column_names)"
   ]
  },
  {
   "cell_type": "code",
   "execution_count": 16,
   "id": "3ff748fe",
   "metadata": {},
   "outputs": [
    {
     "data": {
      "text/html": [
       "<div>\n",
       "<style scoped>\n",
       "    .dataframe tbody tr th:only-of-type {\n",
       "        vertical-align: middle;\n",
       "    }\n",
       "\n",
       "    .dataframe tbody tr th {\n",
       "        vertical-align: top;\n",
       "    }\n",
       "\n",
       "    .dataframe thead th {\n",
       "        text-align: right;\n",
       "    }\n",
       "</style>\n",
       "<table border=\"1\" class=\"dataframe\">\n",
       "  <thead>\n",
       "    <tr style=\"text-align: right;\">\n",
       "      <th></th>\n",
       "      <th>super_per1000</th>\n",
       "      <th>convenience_per1000</th>\n",
       "      <th>fast_food_per1000</th>\n",
       "      <th>full_service_per1000</th>\n",
       "      <th>farmers_markets_per1000</th>\n",
       "      <th>smr_food_prog_17</th>\n",
       "      <th>pop_estimate,percent_black</th>\n",
       "      <th>percent_native_american</th>\n",
       "      <th>percent_asian</th>\n",
       "      <th>percent_nhpi</th>\n",
       "      <th>percent_multi</th>\n",
       "      <th>percent_nonwhite_hispanic</th>\n",
       "      <th>food_dessert</th>\n",
       "    </tr>\n",
       "  </thead>\n",
       "  <tbody>\n",
       "  </tbody>\n",
       "</table>\n",
       "</div>"
      ],
      "text/plain": [
       "Empty DataFrame\n",
       "Columns: [super_per1000, convenience_per1000, fast_food_per1000, full_service_per1000, farmers_markets_per1000, smr_food_prog_17, pop_estimate,percent_black, percent_native_american, percent_asian, percent_nhpi, percent_multi, percent_nonwhite_hispanic, food_dessert]\n",
       "Index: []"
      ]
     },
     "execution_count": 16,
     "metadata": {},
     "output_type": "execute_result"
    }
   ],
   "source": [
    "new_vals"
   ]
  },
  {
   "cell_type": "code",
   "execution_count": 46,
   "id": "ee052e1c",
   "metadata": {},
   "outputs": [
    {
     "name": "stdout",
     "output_type": "stream",
     "text": [
      "56037\n",
      ".06\n",
      ".63\n",
      ".50\n",
      ".90\n",
      ".1\n",
      "5.55\n"
     ]
    }
   ],
   "source": [
    "fips = float(input())\n",
    "super_input = float(input())\n",
    "convenience_store = float(input())\n",
    "fast_food = float(input())\n",
    "restaurant = float(input())\n",
    "farmers_market = float(input())\n",
    "summer_prog = float(input())\n",
    "population = obesity_df.loc[obesity_df['fips'] == fips, 'pop_estimate'].iloc[0]\n",
    "black = obesity_df.loc[obesity_df['fips'] == fips, 'percent_black'].iloc[0]\n",
    "native = obesity_df.loc[obesity_df['fips'] == fips, 'percent_native_american'].iloc[0]\n",
    "asian = obesity_df.loc[obesity_df['fips'] == fips, 'percent_asian'].iloc[0]\n",
    "nhpi = obesity_df.loc[obesity_df['fips'] == fips, 'percent_nhpi'].iloc[0]\n",
    "multi = obesity_df.loc[obesity_df['fips'] == fips, 'percent_multi'].iloc[0]\n",
    "hisp = obesity_df.loc[obesity_df['fips'] == fips, 'percent_nonwhite_hispanic'].iloc[0]\n",
    "food_des = obesity_df.loc[obesity_df['fips'] == fips, 'food_dessert'].iloc[0]"
   ]
  },
  {
   "cell_type": "code",
   "execution_count": 48,
   "id": "882a49ef",
   "metadata": {},
   "outputs": [],
   "source": [
    "new_vals = pd.DataFrame({'super_per1000': [super_input], 'convenience_per1000': [convenience_store],'fast_food_per1000': [fast_food], 'full_service_per1000': [restaurant], 'farmers_markets_per1000': [farmers_market], 'smr_food_prog_17': [summer_prog], 'pop_estimate': [population], 'percent_black': [black],'percent_native_american': [native],'percent_asian': [asian], 'percent_nhpi': [nhpi], 'percent_multi': [multi], 'percent_nonwhite_hispanic': [hisp], 'food_dessert': [food_des]})"
   ]
  },
  {
   "cell_type": "code",
   "execution_count": 49,
   "id": "28ebf400",
   "metadata": {
    "scrolled": false
   },
   "outputs": [
    {
     "name": "stdout",
     "output_type": "stream",
     "text": [
      "<class 'pandas.core.frame.DataFrame'>\n",
      "RangeIndex: 1 entries, 0 to 0\n",
      "Data columns (total 14 columns):\n",
      " #   Column                     Non-Null Count  Dtype  \n",
      "---  ------                     --------------  -----  \n",
      " 0   super_per1000              1 non-null      float64\n",
      " 1   convenience_per1000        1 non-null      float64\n",
      " 2   fast_food_per1000          1 non-null      float64\n",
      " 3   full_service_per1000       1 non-null      float64\n",
      " 4   farmers_markets_per1000    1 non-null      float64\n",
      " 5   smr_food_prog_17           1 non-null      float64\n",
      " 6   pop_estimate               1 non-null      float64\n",
      " 7   percent_black              1 non-null      float64\n",
      " 8   percent_native_american    1 non-null      float64\n",
      " 9   percent_asian              1 non-null      float64\n",
      " 10  percent_nhpi               1 non-null      float64\n",
      " 11  percent_multi              1 non-null      float64\n",
      " 12  percent_nonwhite_hispanic  1 non-null      float64\n",
      " 13  food_dessert               1 non-null      int64  \n",
      "dtypes: float64(13), int64(1)\n",
      "memory usage: 240.0 bytes\n"
     ]
    }
   ],
   "source": [
    "new_vals.info()"
   ]
  },
  {
   "cell_type": "code",
   "execution_count": 50,
   "id": "ae0a66e5",
   "metadata": {},
   "outputs": [],
   "source": [
    "xnew = sm.add_constant(new_vals)"
   ]
  },
  {
   "cell_type": "code",
   "execution_count": 51,
   "id": "a0033e2c",
   "metadata": {},
   "outputs": [],
   "source": [
    "ynewpred =  lin_reg2.predict(xnew)"
   ]
  },
  {
   "cell_type": "code",
   "execution_count": 52,
   "id": "9341768d",
   "metadata": {},
   "outputs": [
    {
     "data": {
      "text/plain": [
       "0    30.337338\n",
       "dtype: float64"
      ]
     },
     "execution_count": 52,
     "metadata": {},
     "output_type": "execute_result"
    }
   ],
   "source": [
    "ynewpred"
   ]
  },
  {
   "cell_type": "code",
   "execution_count": 53,
   "id": "b4c0242d",
   "metadata": {},
   "outputs": [
    {
     "data": {
      "text/plain": [
       "29.2"
      ]
     },
     "execution_count": 53,
     "metadata": {},
     "output_type": "execute_result"
    }
   ],
   "source": [
    "obesity_df.loc[obesity_df['fips'] == 56037, 'obesity_rate'].iloc[0]"
   ]
  }
 ],
 "metadata": {
  "kernelspec": {
   "display_name": "Python 3",
   "language": "python",
   "name": "python3"
  },
  "language_info": {
   "codemirror_mode": {
    "name": "ipython",
    "version": 3
   },
   "file_extension": ".py",
   "mimetype": "text/x-python",
   "name": "python",
   "nbconvert_exporter": "python",
   "pygments_lexer": "ipython3",
   "version": "3.8.8"
  }
 },
 "nbformat": 4,
 "nbformat_minor": 5
}
